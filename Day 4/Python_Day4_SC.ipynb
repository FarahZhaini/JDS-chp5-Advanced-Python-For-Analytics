{
 "cells": [
  {
   "cell_type": "code",
   "execution_count": 169,
   "metadata": {},
   "outputs": [],
   "source": [
    "import numpy as np"
   ]
  },
  {
   "cell_type": "markdown",
   "metadata": {},
   "source": [
    "# NumPy\n",
    "- [NumPy](#NumPy)\n",
    "- [Introduction to NumPy](#Introduction-to-NumPy)\n",
    "- [Creating Arrays](#Creating-Arrays)\n",
    "    - [Nested Lists](#Nested-Lists)\n",
    "    - [Array-Generating Functions](#Array-Generating-Functions)\n",
    "        - [Empty Arrays](#Empty-Arrays)\n",
    "        - [Ranges](#Ranges)\n",
    "        - [Random Data](#Random-Data)\n",
    "        - [Matrix Creation](#Matrix-Creation)\n",
    "        - [Data Types](#Data-Types)\n",
    "        - [Shapes](#Shapes)\n",
    "    - [Exercises](#Exercises)\n",
    "        - [Exercise 1](#Exercise-1)\n",
    "        - [Exercise 2](#Exercise-2)\n",
    "        - [Exercise 3](#Exercise-3)\n",
    "        - [Exercise 4](#Exercise-4)\n",
    "        - [Exercise 5](#Exercise-5)\n",
    "- [Manipulating arrays](#Manipulating-arrays)\n",
    "    - [Indexing](#Indexing)\n",
    "    - [Slicing](#Slicing)\n",
    "    - [Boolean Mask](#Boolean-Mask)\n",
    "    - [Assigning Values to Subarrays](#Assigning-Values-to-Subarrays)\n",
    "    - [Exercises](#Exercises)\n",
    "        - [Exercise 1](#Exercise-1)\n",
    "        - [Exercise 2](#Exercise-2)\n",
    "        - [Exercise 3](#Exercise-3)\n",
    "        - [Exercise 4](#Exercise-4)\n",
    "        - [Exercise 5](#Exercise-5)\n",
    "- [Array Operations](#Array-Operations)\n",
    "    - [Logical Operations](#Logical-Operations)\n",
    "    - [Arithmetic](#Arithmetic)\n",
    "    - [Aggregative Functions](#Aggregative-Functions)\n",
    "    - [Vectorization](#Vectorization)\n",
    "    - [Broadcasting](#Broadcasting)\n",
    "        - [Rule 1](#Rule-1)\n",
    "        - [Rule 2](#Rule-2)\n",
    "        - [Rule 3](#Rule-3)\n",
    "    - [Further Reading](#Further-Reading)\n",
    "    - [Excercises](#Excercises)\n",
    "        - [Exercise 1](#Exercise-1)\n",
    "        - [Exercise 2](#Exercise-2)\n",
    "        - [Exercise 3](#Exercise-3)\n",
    "        - [Exercise 4](#Exercise-4)\n",
    "        - [Exercise 5](#Exercise-5)\n",
    "- [Advanced Manipulation](#Advanced-Manipulation)\n",
    "    - [Reshaping and Transposing](#Reshaping-and-Transposing)\n",
    "    - [Adding a new dimension with `newaxis`](#Adding-a-new-dimension-with-`newaxis`)\n",
    "    - [Concatenation and Splitting](#Concatenation-and-Splitting)\n",
    "    - [Exercises](#Exercises)\n",
    "        - [Exercise 1](#Exercise-1)\n",
    "        - [Exercise 2](#Exercise-2)\n",
    "        - [Exercise 3](#Exercise-3)\n",
    "        - [Exercise 4](#Exercise-4)\n",
    "- [Additional Resources:](#Additional-Resources:)\n"
   ]
  },
  {
   "cell_type": "markdown",
   "metadata": {},
   "source": [
    "## Introduction to NumPy\n",
    "\n",
    "Datasets can include collections of documents, images, sound clips, numerical measurements, or, really anything. Despite the heterogeneity, it will help us to think of all data fundamentally as arrays of numbers.\n",
    "\n",
    "| Data type\t    | Arrays of Numbers? |\n",
    "|---------------|-------------|\n",
    "|Images | Pixel brightness across different channels|\n",
    "|Videos | Pixels brightness across different channels for each frame | \n",
    "|Sound | Intensity over time |\n",
    "|Numbers | No need for transformation | \n",
    "|Tables | Mapping from strings to numbers |\n",
    "\n",
    "\n",
    "Therefore, the efficient storage and manipulation of large arrays of numbers is fundamental to the process of doing data science. NumPy is a library specially designed to handle arrays of numerical data.\n",
    "\n",
    "[NumPy](http://www.numpy.org/) is short for _numerical python_, and provides functions that are especially useful when you have to work with large arrays and matrices of numeric data, like matrix multiplications.  \n",
    "\n",
    "The array object class is the foundation of NumPy, and NumPy arrays are much like nested lists in base Python. However, NumPy supports _vectorization_. This means that many operations in NumPy are written and compiled in C code rather than Python, making it much faster as we will see."
   ]
  },
  {
   "cell_type": "markdown",
   "metadata": {},
   "source": [
    "![Python-NumPy-Cheat-Sheet-1.webp](attachment:Python-NumPy-Cheat-Sheet-1.webp)"
   ]
  },
  {
   "cell_type": "markdown",
   "metadata": {},
   "source": [
    "## Creating Arrays"
   ]
  },
  {
   "cell_type": "markdown",
   "metadata": {},
   "source": [
    "### Nested Lists"
   ]
  },
  {
   "cell_type": "markdown",
   "metadata": {},
   "source": [
    "Arrays can be created from nested lists. The nesting determines the dimensions of the resulting array."
   ]
  },
  {
   "cell_type": "code",
   "execution_count": 170,
   "metadata": {},
   "outputs": [
    {
     "name": "stdout",
     "output_type": "stream",
     "text": [
      "[[ 1  2  3  4  5]\n",
      " [ 6  7  8  9 10]]\n"
     ]
    }
   ],
   "source": [
    "# Create array from lists:\n",
    "lis = [[1,2,3,4,5],[6,7,8,9,10]]\n",
    "ary = np.array(lis)\n",
    "print(ary)"
   ]
  },
  {
   "cell_type": "markdown",
   "metadata": {},
   "source": [
    "Note that dimensions must be consistent. If nested lists do not have the same lengths, NumPy will create a 1-D array in which the elements are the sublists."
   ]
  },
  {
   "cell_type": "code",
   "execution_count": 171,
   "metadata": {},
   "outputs": [
    {
     "name": "stdout",
     "output_type": "stream",
     "text": [
      "[[ 1  2  3  4  5]\n",
      " [ 6  7  8  9 10]]\n"
     ]
    }
   ],
   "source": [
    "print(np.array([[1,2,3,4,5],[6,7,8,9,10]]))"
   ]
  },
  {
   "cell_type": "markdown",
   "metadata": {},
   "source": [
    "The most important attributes of an array are its shape and the number of dimensions."
   ]
  },
  {
   "cell_type": "code",
   "execution_count": 172,
   "metadata": {},
   "outputs": [
    {
     "data": {
      "text/plain": [
       "(2, 5)"
      ]
     },
     "execution_count": 172,
     "metadata": {},
     "output_type": "execute_result"
    }
   ],
   "source": [
    "ary.shape #(row, column)"
   ]
  },
  {
   "cell_type": "code",
   "execution_count": 173,
   "metadata": {},
   "outputs": [
    {
     "data": {
      "text/plain": [
       "2"
      ]
     },
     "execution_count": 173,
     "metadata": {},
     "output_type": "execute_result"
    }
   ],
   "source": [
    "ary.ndim"
   ]
  },
  {
   "cell_type": "markdown",
   "metadata": {},
   "source": [
    "Less important but worth mentioning is the dtype of an array indicating what kind of data it contains."
   ]
  },
  {
   "cell_type": "code",
   "execution_count": 174,
   "metadata": {},
   "outputs": [
    {
     "data": {
      "text/plain": [
       "dtype('int32')"
      ]
     },
     "execution_count": 174,
     "metadata": {},
     "output_type": "execute_result"
    }
   ],
   "source": [
    "ary.dtype"
   ]
  },
  {
   "cell_type": "code",
   "execution_count": 175,
   "metadata": {},
   "outputs": [
    {
     "name": "stdout",
     "output_type": "stream",
     "text": [
      "[[[1, 2, 3, 4, 5], [6, 7, 8, 9, 10]], [[21, 22, 23, 24, 25], [26, 27, 28, 29, 30]], [[31, 32, 33, 34, 35], [36, 37, 38, 29, 40]]]\n",
      "\n"
     ]
    }
   ],
   "source": [
    "# This is a 3 dimensional list \n",
    "lis = [[[1,2,3,4,5],[6,7,8,9,10]], [[21,22,23,24,25], [26,27,28,29, 30]], [[31,32,33,34,35], [36,37,38,29,40]]]\n",
    "print (lis)\n",
    "print ()\n"
   ]
  },
  {
   "cell_type": "code",
   "execution_count": 176,
   "metadata": {},
   "outputs": [
    {
     "name": "stdout",
     "output_type": "stream",
     "text": [
      "creating a 3 dimension array from a list\n",
      "[[[ 1  2  3  4  5]\n",
      "  [ 6  7  8  9 10]]\n",
      "\n",
      " [[21 22 23 24 25]\n",
      "  [26 27 28 29 30]]\n",
      "\n",
      " [[31 32 33 34 35]\n",
      "  [36 37 38 29 40]]]\n",
      "ary.shape =  (3, 2, 5)\n",
      "\n",
      " take your time to understand :)\n"
     ]
    }
   ],
   "source": [
    "print (\"creating a 3 dimension array from a list\")\n",
    "ary = np.array(lis) ## creating array from a list \n",
    "print(ary)\n",
    "print(\"ary.shape = \", ary.shape) #pages/number, row, column\n",
    "print (\"\\n\", \"take your time to understand :)\")\n"
   ]
  },
  {
   "cell_type": "code",
   "execution_count": 177,
   "metadata": {},
   "outputs": [
    {
     "name": "stdout",
     "output_type": "stream",
     "text": [
      "30\n"
     ]
    }
   ],
   "source": [
    "print(ary[1,-1,-1])"
   ]
  },
  {
   "cell_type": "markdown",
   "metadata": {},
   "source": [
    "### Array-Generating Functions\n",
    "For larger arrays it is inpractical to initialize the data manually. Instead we can use one of the many functions in numpy that generate arrays of different forms. Some of the more common are:"
   ]
  },
  {
   "cell_type": "code",
   "execution_count": null,
   "metadata": {},
   "outputs": [],
   "source": []
  },
  {
   "cell_type": "markdown",
   "metadata": {},
   "source": [
    "#### Empty Arrays\n",
    "When the intended shape of an array is known in advance but its values are not, we can use various functions to generate empty arrays."
   ]
  },
  {
   "cell_type": "code",
   "execution_count": 178,
   "metadata": {},
   "outputs": [
    {
     "data": {
      "text/plain": [
       "array([[0., 0., 0.],\n",
       "       [0., 0., 0.]])"
      ]
     },
     "execution_count": 178,
     "metadata": {},
     "output_type": "execute_result"
    }
   ],
   "source": [
    "np.zeros((2, 3))"
   ]
  },
  {
   "cell_type": "code",
   "execution_count": 179,
   "metadata": {},
   "outputs": [
    {
     "data": {
      "text/plain": [
       "array([[1, 1, 1, 1],\n",
       "       [1, 1, 1, 1],\n",
       "       [1, 1, 1, 1]], dtype=int8)"
      ]
     },
     "execution_count": 179,
     "metadata": {},
     "output_type": "execute_result"
    }
   ],
   "source": [
    "np.ones((3, 4), dtype=np.int8)"
   ]
  },
  {
   "cell_type": "code",
   "execution_count": 180,
   "metadata": {},
   "outputs": [
    {
     "data": {
      "text/plain": [
       "array([[3.14, 3.14, 3.14, 3.14, 3.14],\n",
       "       [3.14, 3.14, 3.14, 3.14, 3.14],\n",
       "       [3.14, 3.14, 3.14, 3.14, 3.14]])"
      ]
     },
     "execution_count": 180,
     "metadata": {},
     "output_type": "execute_result"
    }
   ],
   "source": [
    "np.full((3, 5), 3.14) #((size), value)"
   ]
  },
  {
   "cell_type": "markdown",
   "metadata": {},
   "source": [
    "A special case is the function `np.empty`, which does not initialize any values. It will reserve memory for the array but use whatever values are already stored there without reseting them. This can be a useful optimization for speed when creating extremely large arrays."
   ]
  },
  {
   "cell_type": "code",
   "execution_count": 181,
   "metadata": {},
   "outputs": [
    {
     "name": "stdout",
     "output_type": "stream",
     "text": [
      "[[0. 0. 0.]\n",
      " [0. 0. 0.]]\n"
     ]
    }
   ],
   "source": [
    "print(np.empty((2, 3)))\n"
   ]
  },
  {
   "cell_type": "code",
   "execution_count": 182,
   "metadata": {},
   "outputs": [
    {
     "name": "stdout",
     "output_type": "stream",
     "text": [
      "[[6.57633371e-312 6.57636923e-312 6.57684841e-312 6.57684841e-312\n",
      "  6.57658989e-312 6.57636304e-312 6.57636394e-312 6.57684841e-312\n",
      "  6.57633269e-312 6.57636304e-312]\n",
      " [6.57684841e-312 6.57684841e-312 6.57633344e-312 6.57636304e-312\n",
      "  6.57633344e-312 6.57637734e-312 6.57633371e-312 6.57633371e-312\n",
      "  6.57684842e-312 6.57675968e-312]\n",
      " [6.57636265e-312 6.57675968e-312 6.57675968e-312 6.57684842e-312\n",
      "  6.57637724e-312 6.57636304e-312 6.57636394e-312 6.57684842e-312\n",
      "  6.57633269e-312 6.57636304e-312]\n",
      " [6.57633269e-312 6.57684842e-312 6.57684842e-312 6.57633344e-312\n",
      "  6.57636304e-312 6.57633344e-312 6.57633371e-312 6.57637724e-312\n",
      "  6.57637724e-312 6.57637724e-312]\n",
      " [6.57637724e-312 6.57684842e-312 6.57684846e-312 6.57676196e-312\n",
      "  6.57636304e-312 6.57684849e-312 6.57633324e-312 6.57636304e-312\n",
      "  6.57633324e-312 6.57633324e-312]\n",
      " [6.57633324e-312 6.57684849e-312 6.57658989e-312 6.57636304e-312\n",
      "  6.57658989e-312 6.57658989e-312 6.57684849e-312 6.57675968e-312\n",
      "  6.57636304e-312 6.57675968e-312]\n",
      " [6.57675968e-312 6.57684849e-312 6.57633269e-312 6.57636304e-312\n",
      "  6.57633269e-312 6.57633269e-312 6.57684849e-312 6.57633344e-312\n",
      "  6.57636304e-312 6.57633344e-312]]\n"
     ]
    }
   ],
   "source": [
    "print(np.empty((7, 10)))"
   ]
  },
  {
   "cell_type": "markdown",
   "metadata": {},
   "source": [
    "#### Ranges\n",
    "Numpy also has a number of functions to support creating number ranges, such as:\n",
    "\n",
    "**arange**=create number range from 'start' to 'stop' with 'step' increment - endpoint arange:excluded\n",
    "\n",
    "**linspace**=create evenly spaced numbers ('num') from 'start' to 'stop' - endpoint linspace: included"
   ]
  },
  {
   "cell_type": "code",
   "execution_count": 183,
   "metadata": {},
   "outputs": [
    {
     "data": {
      "text/plain": [
       "array([0, 1, 2, 3, 4, 5, 6, 7, 8, 9])"
      ]
     },
     "execution_count": 183,
     "metadata": {},
     "output_type": "execute_result"
    }
   ],
   "source": [
    "# Define endpoints(excluded) and step size\n",
    "np.arange(start=0, stop=10, step=1)"
   ]
  },
  {
   "cell_type": "code",
   "execution_count": 184,
   "metadata": {},
   "outputs": [
    {
     "data": {
      "text/plain": [
       "array([ 6,  8, 10, 12, 14])"
      ]
     },
     "execution_count": 184,
     "metadata": {},
     "output_type": "execute_result"
    }
   ],
   "source": [
    "np.arange(start=6, stop=15, step=2)"
   ]
  },
  {
   "cell_type": "code",
   "execution_count": 185,
   "metadata": {},
   "outputs": [
    {
     "data": {
      "text/plain": [
       "array([0, 1, 2, 3, 4, 5, 6, 7])"
      ]
     },
     "execution_count": 185,
     "metadata": {},
     "output_type": "execute_result"
    }
   ],
   "source": [
    "# 'step' defaults to 1 and 'start' defaults to 0 #DEFAULT\n",
    "np.arange(8)"
   ]
  },
  {
   "cell_type": "code",
   "execution_count": 186,
   "metadata": {},
   "outputs": [
    {
     "data": {
      "text/plain": [
       "array([ 1.        ,  1.64285714,  2.28571429,  2.92857143,  3.57142857,\n",
       "        4.21428571,  4.85714286,  5.5       ,  6.14285714,  6.78571429,\n",
       "        7.42857143,  8.07142857,  8.71428571,  9.35714286, 10.        ])"
      ]
     },
     "execution_count": 186,
     "metadata": {},
     "output_type": "execute_result"
    }
   ],
   "source": [
    "# Define endpoints and the how many number of elements\n",
    "np.linspace(start=1, stop=10, num=15)"
   ]
  },
  {
   "cell_type": "code",
   "execution_count": 187,
   "metadata": {},
   "outputs": [
    {
     "data": {
      "text/plain": [
       "array([1. , 1.6, 2.2, 2.8, 3.4, 4. , 4.6, 5.2, 5.8, 6.4, 7. , 7.6, 8.2,\n",
       "       8.8, 9.4])"
      ]
     },
     "execution_count": 187,
     "metadata": {},
     "output_type": "execute_result"
    }
   ],
   "source": [
    "#  endpoint included by default, thus if false = exclude\n",
    "np.linspace(start=1, stop=10, num=15, endpoint=False)\n",
    "\n",
    "#stop before endpoint 10"
   ]
  },
  {
   "cell_type": "code",
   "execution_count": 188,
   "metadata": {},
   "outputs": [
    {
     "data": {
      "text/plain": [
       "array([ 1.        ,  1.64285714,  2.28571429,  2.92857143,  3.57142857,\n",
       "        4.21428571,  4.85714286,  5.5       ,  6.14285714,  6.78571429,\n",
       "        7.42857143,  8.07142857,  8.71428571,  9.35714286, 10.        ])"
      ]
     },
     "execution_count": 188,
     "metadata": {},
     "output_type": "execute_result"
    }
   ],
   "source": [
    "# Includes the endpoint by default (non-standard Python behavior!)\n",
    "\n",
    "np.linspace(start=1, stop=10, num=15, endpoint=True) \n",
    "\n",
    "#endpoint 10 will be printed out"
   ]
  },
  {
   "cell_type": "markdown",
   "metadata": {},
   "source": [
    "#### Random Data\n",
    "Arrays can also be initialized with random values. NumPy supports many different probability distributions."
   ]
  },
  {
   "cell_type": "code",
   "execution_count": 189,
   "metadata": {},
   "outputs": [
    {
     "data": {
      "text/plain": [
       "array([[0.43767585, 0.94726237, 0.93740349],\n",
       "       [0.83729255, 0.64249234, 0.87773397],\n",
       "       [0.5525502 , 0.87542031, 0.24636769]])"
      ]
     },
     "execution_count": 189,
     "metadata": {},
     "output_type": "execute_result"
    }
   ],
   "source": [
    "# Uniform distribution, i.e. all values equally likely, \n",
    "# between low (inclusive) and high (exclusive)\n",
    "np.random.uniform(low=0, high=1, size=(3, 3))"
   ]
  },
  {
   "cell_type": "code",
   "execution_count": 190,
   "metadata": {},
   "outputs": [],
   "source": [
    " import matplotlib.pyplot as plt"
   ]
  },
  {
   "cell_type": "code",
   "execution_count": 191,
   "metadata": {},
   "outputs": [
    {
     "data": {
      "image/png": "[encoded data removed]",
      "text/plain": [
       "<Figure size 432x288 with 1 Axes>"
      ]
     },
     "metadata": {
      "needs_background": "light"
     },
     "output_type": "display_data"
    }
   ],
   "source": [
    "plt.hist(np.random.uniform(low=0, high=2, size=10000)); #size=how many, can specify low high value"
   ]
  },
  {
   "cell_type": "code",
   "execution_count": 192,
   "metadata": {},
   "outputs": [
    {
     "data": {
      "image/png": "[encoded data removed]",
      "text/plain": [
       "<Figure size 432x288 with 1 Axes>"
      ]
     },
     "metadata": {
      "needs_background": "light"
     },
     "output_type": "display_data"
    }
   ],
   "source": [
    "plt.hist(np.random.random(size=10000)); #size=how many, more general"
   ]
  },
  {
   "cell_type": "code",
   "execution_count": 193,
   "metadata": {},
   "outputs": [
    {
     "data": {
      "text/plain": [
       "array([[0.73403938, 0.6916919 , 0.04974695, 0.07190185, 0.32121986],\n",
       "       [0.86823455, 0.97630181, 0.91349691, 0.50786029, 0.40030061],\n",
       "       [0.75959957, 0.0842209 , 0.82016887, 0.18344643, 0.02722201],\n",
       "       [0.74817679, 0.68923627, 0.58248267, 0.72941234, 0.38236409],\n",
       "       [0.30171244, 0.36730362, 0.39001436, 0.79771381, 0.86374097]])"
      ]
     },
     "execution_count": 193,
     "metadata": {},
     "output_type": "execute_result"
    }
   ],
   "source": [
    "# Alias for np.random.uniform(low=0, high=1, size=x)\n",
    "np.random.random(size=(5, 5))"
   ]
  },
  {
   "cell_type": "code",
   "execution_count": 194,
   "metadata": {},
   "outputs": [
    {
     "data": {
      "text/plain": [
       "array([[0.68171709, 0.91845711, 0.27538144, 0.91254012, 0.70218921],\n",
       "       [0.08798326, 0.23150229, 0.8985268 , 0.65338387, 0.21803462],\n",
       "       [0.30443894, 0.83120766, 0.46827723, 0.0594757 , 0.49696842],\n",
       "       [0.51741248, 0.35530633, 0.57252673, 0.2030567 , 0.83845225],\n",
       "       [0.33279818, 0.09642502, 0.78808588, 0.30185642, 0.64202927]])"
      ]
     },
     "execution_count": 194,
     "metadata": {},
     "output_type": "execute_result"
    }
   ],
   "source": [
    "np.random.uniform(size=(5, 5))"
   ]
  },
  {
   "cell_type": "code",
   "execution_count": 195,
   "metadata": {},
   "outputs": [
    {
     "data": {
      "text/plain": [
       "array([[5.84188617, 5.82615334, 4.27575484],\n",
       "       [4.91718628, 7.32397435, 4.25597929],\n",
       "       [2.98227747, 4.74585419, 4.1414763 ]])"
      ]
     },
     "execution_count": 195,
     "metadata": {},
     "output_type": "execute_result"
    }
   ],
   "source": [
    "# Normal (Gaussian) distribution centered around 'loc' (mean)\n",
    "# with a standard deviation of 'scale'\n",
    "np.random.normal(loc=5, scale=2, size=(3, 3)) #(centre, sd, size)"
   ]
  },
  {
   "cell_type": "code",
   "execution_count": 196,
   "metadata": {},
   "outputs": [],
   "source": [
    " import matplotlib.pyplot as plt"
   ]
  },
  {
   "cell_type": "code",
   "execution_count": 197,
   "metadata": {},
   "outputs": [
    {
     "data": {
      "image/png": "[encoded data removed]",
      "text/plain": [
       "<Figure size 432x288 with 1 Axes>"
      ]
     },
     "metadata": {
      "needs_background": "light"
     },
     "output_type": "display_data"
    }
   ],
   "source": [
    "plt.hist(np.random.normal(loc=5, scale=2, size=10000));"
   ]
  },
  {
   "cell_type": "code",
   "execution_count": null,
   "metadata": {},
   "outputs": [],
   "source": []
  },
  {
   "cell_type": "markdown",
   "metadata": {},
   "source": [
    "Beyond distributions of uniformly distributed floating point values, NumPy also lets us generate **random integers (randit)**"
   ]
  },
  {
   "cell_type": "code",
   "execution_count": 198,
   "metadata": {},
   "outputs": [
    {
     "data": {
      "text/plain": [
       "array([[64, 39, 35, 31],\n",
       "       [41, 95, 20, 19],\n",
       "       [14,  9, 59, 43],\n",
       "       [38, 63, 35,  2]])"
      ]
     },
     "execution_count": 198,
     "metadata": {},
     "output_type": "execute_result"
    }
   ],
   "source": [
    "np.random.randint(low=1, high=100, size=(4, 4))"
   ]
  },
  {
   "cell_type": "code",
   "execution_count": 199,
   "metadata": {},
   "outputs": [
    {
     "data": {
      "text/plain": [
       "(array([10289., 10096., 10075., 10214.,  9003., 10043., 10243., 10167.,\n",
       "         9959.,  9911.]),\n",
       " array([ 1. , 10.8, 20.6, 30.4, 40.2, 50. , 59.8, 69.6, 79.4, 89.2, 99. ]),\n",
       " <BarContainer object of 10 artists>)"
      ]
     },
     "execution_count": 199,
     "metadata": {},
     "output_type": "execute_result"
    },
    {
     "data": {
      "image/png": "[encoded data removed]",
      "text/plain": [
       "<Figure size 432x288 with 1 Axes>"
      ]
     },
     "metadata": {
      "needs_background": "light"
     },
     "output_type": "display_data"
    }
   ],
   "source": [
    "plt.hist(np.random.randint(low=1, high=100, size=100000))"
   ]
  },
  {
   "cell_type": "markdown",
   "metadata": {},
   "source": [
    "#### Matrix Creation\n",
    "Due to their ubiquity, NumPy also has several generating functions for 2-D arrays (matrices)"
   ]
  },
  {
   "cell_type": "code",
   "execution_count": 200,
   "metadata": {},
   "outputs": [
    {
     "data": {
      "text/plain": [
       "array([[1., 0., 0., 0., 0.],\n",
       "       [0., 1., 0., 0., 0.],\n",
       "       [0., 0., 1., 0., 0.]])"
      ]
     },
     "execution_count": 200,
     "metadata": {},
     "output_type": "execute_result"
    }
   ],
   "source": [
    "# Create an NxM 'identity' matrix with 1 along the diagonal and 0 elsewhere\n",
    "np.eye(N=3, M=5) #eye=identity, N=row, M=column"
   ]
  },
  {
   "cell_type": "code",
   "execution_count": 201,
   "metadata": {},
   "outputs": [
    {
     "data": {
      "text/plain": [
       "array([[0., 1., 0., 0.],\n",
       "       [0., 0., 1., 0.],\n",
       "       [0., 0., 0., 1.],\n",
       "       [0., 0., 0., 0.]])"
      ]
     },
     "execution_count": 201,
     "metadata": {},
     "output_type": "execute_result"
    }
   ],
   "source": [
    "# Offset the diagonal\n",
    "np.eye(N=4, M=4, k=1) #k=1 is offset"
   ]
  },
  {
   "cell_type": "code",
   "execution_count": 202,
   "metadata": {},
   "outputs": [
    {
     "data": {
      "text/plain": [
       "array([[1, 0, 0],\n",
       "       [0, 2, 0],\n",
       "       [0, 0, 3]])"
      ]
     },
     "execution_count": 202,
     "metadata": {},
     "output_type": "execute_result"
    }
   ],
   "source": [
    "# a diagonal matrix with custom diagonal values\n",
    "np.diag([1,2,3])"
   ]
  },
  {
   "cell_type": "code",
   "execution_count": 203,
   "metadata": {},
   "outputs": [
    {
     "data": {
      "text/plain": [
       "array([[0, 0, 1, 0, 0],\n",
       "       [0, 0, 0, 2, 0],\n",
       "       [0, 0, 0, 0, 3],\n",
       "       [0, 0, 0, 0, 0],\n",
       "       [0, 0, 0, 0, 0]])"
      ]
     },
     "execution_count": 203,
     "metadata": {},
     "output_type": "execute_result"
    }
   ],
   "source": [
    "# put the values on the offset diagonal of degree k\n",
    "# NumPy automatically generates a matrix of the necessary size\n",
    "np.diag([1,2,3], k=2)"
   ]
  },
  {
   "cell_type": "code",
   "execution_count": 204,
   "metadata": {},
   "outputs": [
    {
     "data": {
      "text/plain": [
       "array([[1., 0., 0., 0.],\n",
       "       [1., 1., 0., 0.],\n",
       "       [1., 1., 1., 0.],\n",
       "       [1., 1., 1., 1.],\n",
       "       [1., 1., 1., 1.]])"
      ]
     },
     "execution_count": 204,
     "metadata": {},
     "output_type": "execute_result"
    }
   ],
   "source": [
    "# A matrix with 1's on the diagonal and all lower offset diagonals\n",
    "# Can also be offset with argument k=...\n",
    "np.tri(N=5, M=4)"
   ]
  },
  {
   "cell_type": "markdown",
   "metadata": {},
   "source": [
    "#### Data Types\n",
    "Most, if not all, of these functions allow us to determine the data type with the `dtype` function argument, e.g."
   ]
  },
  {
   "cell_type": "code",
   "execution_count": 205,
   "metadata": {},
   "outputs": [
    {
     "data": {
      "text/plain": [
       "array([[0, 0, 0],\n",
       "       [0, 0, 0]], dtype=int16)"
      ]
     },
     "execution_count": 205,
     "metadata": {},
     "output_type": "execute_result"
    }
   ],
   "source": [
    "np.zeros((2, 3), dtype=np.int16)"
   ]
  },
  {
   "cell_type": "code",
   "execution_count": null,
   "metadata": {},
   "outputs": [],
   "source": []
  },
  {
   "cell_type": "markdown",
   "metadata": {},
   "source": [
    "Some of the most common supported data types are\n",
    "\n",
    "| Data Type | Description |\n",
    "| --------- | ----------- |\n",
    "| `np.bool_` or `np.bool` | Boolean (True or False) stored as a byte\n",
    "| `np.int8` | \tByte (-128 to 127)\n",
    "| `np.int16` | \tInteger (-32768 to 32767)\n",
    "| `np.int32` | \tInteger (-2147483648 to 2147483647)\n",
    "| `np.int64` | \tInteger (-9223372036854775808 to 9223372036854775807)\n",
    "| `np.int_` or `np.int` | Default integer type (normally either int64 or int32)\n",
    "| `np.uint8` | \tUnsigned integer (0 to 255)\n",
    "| `np.uint16` | Unsigned integer (0 to 65535)\n",
    "| `np.uint32` | Unsigned integer (0 to 4294967295)\n",
    "| `np.uint64` | Unsigned integer (0 to 18446744073709551615)\n",
    "| `np.float16` | Half precision float: sign bit, 5 bits exponent, 10 bits mantissa\n",
    "| `np.float32` | Single precision float: sign bit, 8 bits exponent, 23 bits mantissa\n",
    "| `np.float64` | Double precision float: sign bit, 11 bits exponent, 52 bits mantissa\n",
    "| `np.float_` or `np.float` | Default float type (normally either float64 or float32)"
   ]
  },
  {
   "cell_type": "markdown",
   "metadata": {},
   "source": [
    "#### Shapes\n",
    "Until now, we've always created 1-D or 2-D arrays but NumPy is in no way limited to this. Any time a shape or size parameter is used in a function, we can create an array with as many dimensions as we like, e.g."
   ]
  },
  {
   "cell_type": "code",
   "execution_count": 206,
   "metadata": {},
   "outputs": [
    {
     "data": {
      "text/plain": [
       "array([[[1, 4, 3, 7, 8],\n",
       "        [5, 1, 2, 2, 5],\n",
       "        [3, 5, 3, 1, 1],\n",
       "        [9, 7, 5, 5, 5]],\n",
       "\n",
       "       [[7, 7, 6, 2, 7],\n",
       "        [9, 4, 1, 1, 6],\n",
       "        [8, 8, 7, 1, 7],\n",
       "        [8, 6, 2, 6, 7]],\n",
       "\n",
       "       [[4, 7, 8, 6, 7],\n",
       "        [5, 7, 6, 2, 1],\n",
       "        [8, 4, 3, 3, 1],\n",
       "        [1, 5, 6, 9, 5]]])"
      ]
     },
     "execution_count": 206,
     "metadata": {},
     "output_type": "execute_result"
    }
   ],
   "source": [
    "# Three 4x5 arrays stacked into a 3-D cube\n",
    "np.random.randint(low=1, high=10, size=(3, 4, 5))"
   ]
  },
  {
   "cell_type": "code",
   "execution_count": 207,
   "metadata": {},
   "outputs": [
    {
     "data": {
      "text/plain": [
       "array([[[[4, 6, 3, 1, 7],\n",
       "         [7, 1, 8, 4, 8],\n",
       "         [9, 1, 9, 2, 4],\n",
       "         [6, 8, 6, 2, 4]],\n",
       "\n",
       "        [[6, 1, 3, 4, 6],\n",
       "         [3, 1, 8, 3, 7],\n",
       "         [8, 8, 8, 7, 9],\n",
       "         [7, 4, 6, 1, 5]],\n",
       "\n",
       "        [[4, 9, 1, 2, 6],\n",
       "         [2, 9, 4, 2, 2],\n",
       "         [4, 9, 9, 1, 6],\n",
       "         [7, 7, 9, 7, 8]]],\n",
       "\n",
       "\n",
       "       [[[9, 6, 3, 3, 5],\n",
       "         [1, 1, 4, 6, 9],\n",
       "         [7, 6, 6, 6, 9],\n",
       "         [3, 8, 5, 2, 2]],\n",
       "\n",
       "        [[9, 2, 3, 8, 5],\n",
       "         [9, 3, 4, 3, 5],\n",
       "         [4, 2, 4, 3, 4],\n",
       "         [1, 6, 2, 9, 7]],\n",
       "\n",
       "        [[6, 4, 4, 4, 7],\n",
       "         [5, 2, 3, 2, 3],\n",
       "         [3, 2, 2, 7, 1],\n",
       "         [9, 5, 4, 9, 1]]]])"
      ]
     },
     "execution_count": 207,
     "metadata": {},
     "output_type": "execute_result"
    }
   ],
   "source": [
    "# Two times sets of three 4x5 arrays stacked into 3-D cubes. \n",
    "np.random.randint(low=1, high=10, size=(2, 3, 4, 5))"
   ]
  },
  {
   "cell_type": "markdown",
   "metadata": {},
   "source": [
    "### Exercises"
   ]
  },
  {
   "cell_type": "markdown",
   "metadata": {},
   "source": [
    "#### Exercise 1\n",
    "Create a new 2x2 array without initializing entries."
   ]
  },
  {
   "cell_type": "code",
   "execution_count": 208,
   "metadata": {},
   "outputs": [],
   "source": [
    "### your code here"
   ]
  },
  {
   "cell_type": "code",
   "execution_count": 209,
   "metadata": {},
   "outputs": [
    {
     "data": {
      "text/plain": [
       "array([[ 13.575     ,  98.70761562],\n",
       "       [ 39.075     , 108.70761562]])"
      ]
     },
     "execution_count": 209,
     "metadata": {},
     "output_type": "execute_result"
    }
   ],
   "source": [
    "np.empty((2,2))"
   ]
  },
  {
   "cell_type": "markdown",
   "metadata": {},
   "source": [
    "#### Exercise 2\n",
    "Create a new 3x2x4 array of ones and make sure they're floating point numbers."
   ]
  },
  {
   "cell_type": "code",
   "execution_count": 210,
   "metadata": {},
   "outputs": [],
   "source": [
    "### your code here"
   ]
  },
  {
   "cell_type": "code",
   "execution_count": 211,
   "metadata": {},
   "outputs": [
    {
     "data": {
      "text/plain": [
       "array([[[1., 1., 1., 1.],\n",
       "        [1., 1., 1., 1.]],\n",
       "\n",
       "       [[1., 1., 1., 1.],\n",
       "        [1., 1., 1., 1.]],\n",
       "\n",
       "       [[1., 1., 1., 1.],\n",
       "        [1., 1., 1., 1.]]])"
      ]
     },
     "execution_count": 211,
     "metadata": {},
     "output_type": "execute_result"
    }
   ],
   "source": [
    "np.ones((3,2,4), dtype=float)"
   ]
  },
  {
   "cell_type": "markdown",
   "metadata": {},
   "source": [
    "#### Exercise 3\n",
    "Create a 1-D array of 20 evenly spaced elements between 3. (inclusive) and 10. (exclusive)."
   ]
  },
  {
   "cell_type": "code",
   "execution_count": 212,
   "metadata": {},
   "outputs": [
    {
     "data": {
      "text/plain": [
       "array([3.  , 3.35, 3.7 , 4.05, 4.4 , 4.75, 5.1 , 5.45, 5.8 , 6.15, 6.5 ,\n",
       "       6.85, 7.2 , 7.55, 7.9 , 8.25, 8.6 , 8.95, 9.3 , 9.65])"
      ]
     },
     "execution_count": 212,
     "metadata": {},
     "output_type": "execute_result"
    }
   ],
   "source": [
    "### your code here #2024\n",
    "np.linspace(start=3, stop=10, num=20, endpoint=False) "
   ]
  },
  {
   "cell_type": "code",
   "execution_count": 213,
   "metadata": {},
   "outputs": [
    {
     "data": {
      "text/plain": [
       "array([3.  , 3.35, 3.7 , 4.05, 4.4 , 4.75, 5.1 , 5.45, 5.8 , 6.15, 6.5 ,\n",
       "       6.85, 7.2 , 7.55, 7.9 , 8.25, 8.6 , 8.95, 9.3 , 9.65])"
      ]
     },
     "execution_count": 213,
     "metadata": {},
     "output_type": "execute_result"
    }
   ],
   "source": [
    "np.linspace(start=3, stop=10, endpoint = False, num=20)"
   ]
  },
  {
   "cell_type": "markdown",
   "metadata": {},
   "source": [
    "#### Exercise 4\n",
    "Create a matrix with the values (2, 4, 9) on the third offset diagonal and 0 everywhere else."
   ]
  },
  {
   "cell_type": "code",
   "execution_count": 214,
   "metadata": {},
   "outputs": [
    {
     "data": {
      "text/plain": [
       "array([[0, 0, 0, 2, 0, 0],\n",
       "       [0, 0, 0, 0, 4, 0],\n",
       "       [0, 0, 0, 0, 0, 9],\n",
       "       [0, 0, 0, 0, 0, 0],\n",
       "       [0, 0, 0, 0, 0, 0],\n",
       "       [0, 0, 0, 0, 0, 0]])"
      ]
     },
     "execution_count": 214,
     "metadata": {},
     "output_type": "execute_result"
    }
   ],
   "source": [
    "### your code here #2024\n",
    "np.diag([2, 4, 9], k=3)"
   ]
  },
  {
   "cell_type": "code",
   "execution_count": 215,
   "metadata": {},
   "outputs": [
    {
     "data": {
      "text/plain": [
       "array([[0, 0, 0, 2, 0, 0],\n",
       "       [0, 0, 0, 0, 4, 0],\n",
       "       [0, 0, 0, 0, 0, 9],\n",
       "       [0, 0, 0, 0, 0, 0],\n",
       "       [0, 0, 0, 0, 0, 0],\n",
       "       [0, 0, 0, 0, 0, 0]])"
      ]
     },
     "execution_count": 215,
     "metadata": {},
     "output_type": "execute_result"
    }
   ],
   "source": [
    "np.diag([2,4,9], k=3)"
   ]
  },
  {
   "cell_type": "markdown",
   "metadata": {},
   "source": [
    "#### Exercise 5\n",
    "You want to simulate a coin toss with a binomial distribution (`np.random.binomial`). If this is a fair coin, then the probability of getting heads is `p=0.5`. If you toss the coin `n=100` times, how often does your simulation toss heads?"
   ]
  },
  {
   "cell_type": "code",
   "execution_count": 216,
   "metadata": {},
   "outputs": [
    {
     "data": {
      "text/plain": [
       "55"
      ]
     },
     "execution_count": 216,
     "metadata": {},
     "output_type": "execute_result"
    }
   ],
   "source": [
    "### your code here #2024\n",
    "np.random.binomial(p=0.5,n=100)"
   ]
  },
  {
   "cell_type": "code",
   "execution_count": 217,
   "metadata": {},
   "outputs": [
    {
     "data": {
      "text/plain": [
       "44"
      ]
     },
     "execution_count": 217,
     "metadata": {},
     "output_type": "execute_result"
    }
   ],
   "source": [
    "np.random.binomial(p=0.5, n=100)"
   ]
  },
  {
   "cell_type": "code",
   "execution_count": 218,
   "metadata": {},
   "outputs": [
    {
     "data": {
      "image/png": "[encoded data removed]",
      "text/plain": [
       "<Figure size 432x288 with 1 Axes>"
      ]
     },
     "metadata": {
      "needs_background": "light"
     },
     "output_type": "display_data"
    }
   ],
   "source": [
    "plt.hist(np.random.binomial(p=0.5, n=100, size=10000));"
   ]
  },
  {
   "cell_type": "markdown",
   "metadata": {},
   "source": [
    "## Manipulating arrays"
   ]
  },
  {
   "cell_type": "markdown",
   "metadata": {},
   "source": [
    "### Indexing\n",
    "We can index elements in an array using square brackets and indices:"
   ]
  },
  {
   "cell_type": "code",
   "execution_count": 219,
   "metadata": {},
   "outputs": [
    {
     "name": "stdout",
     "output_type": "stream",
     "text": [
      "[1 2 3 4]\n",
      "1\n"
     ]
    }
   ],
   "source": [
    "# a vector: the argument to the array function is a Python list\n",
    "v = np.array([1,2,3,4])\n",
    "print(v)\n",
    "print(v[0])"
   ]
  },
  {
   "cell_type": "code",
   "execution_count": 220,
   "metadata": {},
   "outputs": [
    {
     "name": "stdout",
     "output_type": "stream",
     "text": [
      "[[6 2 8]\n",
      " [3 2 3]\n",
      " [8 9 6]]\n",
      "2\n"
     ]
    }
   ],
   "source": [
    "M = np.random.randint(low=1, high=10, size=[3,3])\n",
    "print(M)\n",
    "# M is a matrix, or a 2 dimensional array, taking two indices \n",
    "print(M[1,1])"
   ]
  },
  {
   "cell_type": "code",
   "execution_count": 221,
   "metadata": {},
   "outputs": [
    {
     "name": "stdout",
     "output_type": "stream",
     "text": [
      "[[[2 5 3]\n",
      "  [1 3 8]\n",
      "  [1 5 6]]\n",
      "\n",
      " [[2 2 2]\n",
      "  [1 8 6]\n",
      "  [3 8 5]]]\n",
      "5\n"
     ]
    }
   ],
   "source": [
    "M = np.random.randint(low=1, high=10, size=[2,3,3])\n",
    "print(M)\n",
    "print(M[0, 2, 1])"
   ]
  },
  {
   "cell_type": "markdown",
   "metadata": {},
   "source": [
    "### Slicing\n",
    "Just as we can use square brackets to access individual array elements, we can also use them to access subarrays with the *slice* notation, marked by the colon (``:``) character.\n",
    "The NumPy slicing syntax follows that of the standard Python list; to access a slice of an array ``x``, use this:\n",
    "``` python\n",
    "x[start:stop:step]\n",
    "```\n",
    "\n",
    "Slicing follows the typical Python convention of excluding the stop-index. If any of these are unspecified, they default to the values ``start=0``, ``stop=<size_of_dimension>``, ``step=1``. "
   ]
  },
  {
   "cell_type": "code",
   "execution_count": 222,
   "metadata": {},
   "outputs": [
    {
     "name": "stdout",
     "output_type": "stream",
     "text": [
      "[0 1 2 3 4 5 6 7 8 9]\n",
      "[3 4 5 6]\n",
      "[5 6 7 8 9]\n",
      "[0 1 2 3 4 5]\n",
      "[1 4 7]\n",
      "[0 2 4 6 8]\n"
     ]
    }
   ],
   "source": [
    "v = np.arange(10)\n",
    "print(v)\n",
    "print(v[3:7])\n",
    "print(v[5:])\n",
    "print(v[:6])\n",
    "print(v[1:10:3])\n",
    "print(v[::2])"
   ]
  },
  {
   "cell_type": "markdown",
   "metadata": {},
   "source": [
    "The second `:` is unnecessary if no step is specified."
   ]
  },
  {
   "cell_type": "code",
   "execution_count": 223,
   "metadata": {},
   "outputs": [
    {
     "name": "stdout",
     "output_type": "stream",
     "text": [
      "[2 3 4]\n",
      "[2 3 4]\n"
     ]
    }
   ],
   "source": [
    "print(v[2:5])\n",
    "print(v[2:5:1])"
   ]
  },
  {
   "cell_type": "markdown",
   "metadata": {},
   "source": [
    "Like before, we can index multidimensional arrays by using slices for each dimension."
   ]
  },
  {
   "cell_type": "code",
   "execution_count": 224,
   "metadata": {},
   "outputs": [
    {
     "name": "stdout",
     "output_type": "stream",
     "text": [
      "[[7 5 4 5 3]\n",
      " [7 8 5 9 2]\n",
      " [2 7 6 7 9]\n",
      " [3 8 8 4 4]\n",
      " [8 4 4 9 3]]\n",
      "\n",
      "[[5 3]\n",
      " [9 2]]\n",
      "\n",
      "[[7 5]\n",
      " [2 7]\n",
      " [8 4]]\n"
     ]
    }
   ],
   "source": [
    "M = np.random.randint(low=1, high=10, size=(5, 5))\n",
    "print(M)\n",
    "print()\n",
    "print(M[0:2, 3:5]) #range: row, column\n",
    "print()\n",
    "print(M[::2, 0:2]) #default start 0, default until before end"
   ]
  },
  {
   "cell_type": "markdown",
   "metadata": {},
   "source": [
    "If we omit an index of a multidimensional array, it assumes all of the following dimensions should be indexed fully. For example, indexing a 2-D matrix with only one index slice will return all columns of the specified rows."
   ]
  },
  {
   "cell_type": "code",
   "execution_count": 225,
   "metadata": {},
   "outputs": [
    {
     "name": "stdout",
     "output_type": "stream",
     "text": [
      "[3 8 8 4 4]\n",
      "[3 8 8 4 4]\n"
     ]
    }
   ],
   "source": [
    "print(M[3]) #row 3\n",
    "print(M[3, :])  #row 3"
   ]
  },
  {
   "cell_type": "code",
   "execution_count": 226,
   "metadata": {},
   "outputs": [
    {
     "name": "stdout",
     "output_type": "stream",
     "text": [
      "[8 4 4 9 3]\n",
      "[8 4 4 9 3]\n"
     ]
    }
   ],
   "source": [
    "print(M[4]) #row 4\n",
    "print(M[4,:]) #row 4"
   ]
  },
  {
   "cell_type": "code",
   "execution_count": 227,
   "metadata": {},
   "outputs": [
    {
     "name": "stdout",
     "output_type": "stream",
     "text": [
      "[5 9 7 4 9]\n"
     ]
    }
   ],
   "source": [
    "print(M[:,3]) #column 3"
   ]
  },
  {
   "cell_type": "markdown",
   "metadata": {},
   "source": [
    "### Boolean Mask\n",
    "Lastly, we can use boolean masks to select specific values. Masks must have the same shape as the array itself. Note that NumPy will automatically convert base Python into NumPy arrays. That means that a mask can be anything that can be converted into an array, e.g. a (nested) list."
   ]
  },
  {
   "cell_type": "code",
   "execution_count": 228,
   "metadata": {},
   "outputs": [
    {
     "name": "stdout",
     "output_type": "stream",
     "text": [
      "[ 1.  4.  7. 10.]\n",
      "\n",
      "[ 1.  7. 10.]\n"
     ]
    }
   ],
   "source": [
    "v = np.linspace(start=1, stop=10, num=4, endpoint=True)\n",
    "print(v)\n",
    "print()\n",
    "print(v[[True, False, True, True]])"
   ]
  },
  {
   "cell_type": "markdown",
   "metadata": {},
   "source": [
    "Indexing with boolean masks will always flatten arrays, i.e. all shape information will be lost."
   ]
  },
  {
   "cell_type": "code",
   "execution_count": 229,
   "metadata": {},
   "outputs": [
    {
     "name": "stdout",
     "output_type": "stream",
     "text": [
      "[[7 5 4 5 3]\n",
      " [7 8 5 9 2]\n",
      " [2 7 6 7 9]\n",
      " [3 8 8 4 4]\n",
      " [8 4 4 9 3]]\n",
      "\n",
      "[2 6 3 8]\n"
     ]
    }
   ],
   "source": [
    "#booelan can be used to select certain subarrays\n",
    "mask = np.array([\n",
    "    [False, False, False, False, False], \n",
    "    [False, False, False, False, False], \n",
    "    [True,  False, True, False, False], \n",
    "    [True,  True,  False, False, False], \n",
    "    [False, False, False, False, False]])\n",
    "print(M)\n",
    "print()\n",
    "print(M[mask])"
   ]
  },
  {
   "cell_type": "markdown",
   "metadata": {},
   "source": [
    "We can negate boolean NumPy arrays with `~`"
   ]
  },
  {
   "cell_type": "code",
   "execution_count": 230,
   "metadata": {},
   "outputs": [
    {
     "name": "stdout",
     "output_type": "stream",
     "text": [
      "[0 1 2 3 4]\n",
      "[0 1]\n",
      "[2 3 4]\n"
     ]
    }
   ],
   "source": [
    "v = np.arange(5)\n",
    "mask = np.array([True, True, False, False, False])\n",
    "print (v)\n",
    "print(v[mask])\n",
    "print(v[~mask]) #~ means opposite"
   ]
  },
  {
   "cell_type": "markdown",
   "metadata": {},
   "source": [
    "### Assigning Values to Subarrays\n",
    "\n",
    "We can assign new values to elements in an array using any of the indexing methods shown above."
   ]
  },
  {
   "cell_type": "code",
   "execution_count": 231,
   "metadata": {},
   "outputs": [
    {
     "name": "stdout",
     "output_type": "stream",
     "text": [
      "[[1 0 0 0 0]\n",
      " [0 0 0 0 0]\n",
      " [0 0 0 0 0]\n",
      " [0 0 0 0 0]\n",
      " [0 0 0 0 0]]\n"
     ]
    }
   ],
   "source": [
    "M = np.zeros((5, 5), dtype=int)\n",
    "M[0,0] = 1\n",
    "print(M)"
   ]
  },
  {
   "cell_type": "code",
   "execution_count": 232,
   "metadata": {},
   "outputs": [
    {
     "name": "stdout",
     "output_type": "stream",
     "text": [
      "[[1 0 3 0 0]\n",
      " [2 2 3 2 2]\n",
      " [0 0 3 0 0]\n",
      " [0 0 3 0 0]\n",
      " [0 0 3 0 0]]\n"
     ]
    }
   ],
   "source": [
    "# also works for rows and columns\n",
    "M[1,:] = 2 #rows\n",
    "M[:,2] = 3 #columns\n",
    "print(M)"
   ]
  },
  {
   "cell_type": "code",
   "execution_count": 233,
   "metadata": {},
   "outputs": [
    {
     "name": "stdout",
     "output_type": "stream",
     "text": [
      "[[1 0 3 0 0]\n",
      " [2 2 3 2 2]\n",
      " [0 0 3 0 0]\n",
      " [0 0 4 4 4]\n",
      " [0 0 4 4 4]]\n"
     ]
    }
   ],
   "source": [
    "# simultaneous assignment of subarray\n",
    "M[3:5, 2:5] = 4\n",
    "print(M)"
   ]
  },
  {
   "cell_type": "markdown",
   "metadata": {},
   "source": [
    "Even though boolean masks flatten outputs when used for selection, they can be used to assign values while retaining the shape."
   ]
  },
  {
   "cell_type": "code",
   "execution_count": 234,
   "metadata": {},
   "outputs": [
    {
     "name": "stdout",
     "output_type": "stream",
     "text": [
      "[[1 0 3 0 0]\n",
      " [2 2 3 2 2]\n",
      " [5 0 5 0 0]\n",
      " [5 5 4 4 4]\n",
      " [0 0 4 4 4]]\n"
     ]
    }
   ],
   "source": [
    "#booelan can be used to select certain subarrays AND\n",
    "#boolean can also be used to assign values to sub-arrays\n",
    "mask = np.array([\n",
    "    [False, False, False, False, False], \n",
    "    [False, False, False, False, False], \n",
    "    [True,  False, True,  False, False], #True true\n",
    "    [True,  True,  False, False, False], #True true\n",
    "    [False, False, False, False, False]])\n",
    "M[mask] = 5\n",
    "print(M)"
   ]
  },
  {
   "cell_type": "markdown",
   "metadata": {},
   "source": [
    "Assigned values are broadcast to the necessary shape as per the broadcasting rules above. This means that for assignment with indices/slices, they are broadcast to the subarray shape"
   ]
  },
  {
   "cell_type": "code",
   "execution_count": 235,
   "metadata": {},
   "outputs": [
    {
     "name": "stdout",
     "output_type": "stream",
     "text": [
      "[[ 1  0  3 -1 -2]\n",
      " [ 2  2  3 -3 -4]\n",
      " [ 5  0  5  0  0]\n",
      " [ 5  5  4  4  4]\n",
      " [ 0  0  4  4  4]]\n"
     ]
    }
   ],
   "source": [
    "M[0:2, 3:5] = np.array([[-1, -2], [-3, -4]])\n",
    "print(M)\n",
    "#Top right"
   ]
  },
  {
   "cell_type": "markdown",
   "metadata": {},
   "source": [
    "For boolean masks, the values must be either a scalar value, i.e. a 0-D array, or a 1-D array. Note that after assignment, the original shape of the array is retained."
   ]
  },
  {
   "cell_type": "code",
   "execution_count": 236,
   "metadata": {},
   "outputs": [
    {
     "name": "stdout",
     "output_type": "stream",
     "text": [
      "[[10  0 11 -1 12]\n",
      " [ 2 13  3 14 -4]\n",
      " [ 5  0  5  0  0]\n",
      " [ 5  5  4  4  4]\n",
      " [ 0  0  4  4  4]]\n"
     ]
    }
   ],
   "source": [
    "mask = np.array([\n",
    "    [True,  False, True,  False, True ], #True true true\n",
    "    [False, True,  False, True,  False],    #True true\n",
    "    [False, False, False, False, False], \n",
    "    [False, False, False, False, False], \n",
    "    [False, False, False, False, False]])\n",
    "M[mask] = [10, 11, 12, 13, 14]\n",
    "print(M)"
   ]
  },
  {
   "cell_type": "markdown",
   "metadata": {},
   "source": [
    "### Exercises\n",
    "Unless otherwise stated, the following exercises are based on the following array. Keep in mind, with regards to the phrasing, that Python begins indexing at 0, i.e. the 'first' element is the element with index 0."
   ]
  },
  {
   "cell_type": "code",
   "execution_count": 237,
   "metadata": {
    "scrolled": true
   },
   "outputs": [
    {
     "name": "stdout",
     "output_type": "stream",
     "text": [
      "[[ 3  3 -2  2  2]\n",
      " [-5 -1 -3  0 -3]\n",
      " [-3 -3 -4 -5  3]\n",
      " [-1 -5  4  1 -3]\n",
      " [-1 -4  0 -2 -1]]\n"
     ]
    }
   ],
   "source": [
    "np.random.seed(100)\n",
    "M = np.random.randint(low=-5, high=5, size=(5, 5))\n",
    "print(M)"
   ]
  },
  {
   "cell_type": "markdown",
   "metadata": {},
   "source": [
    "#### Exercise 1\n",
    "Extract the third column of the matrix `M`"
   ]
  },
  {
   "cell_type": "code",
   "execution_count": 238,
   "metadata": {},
   "outputs": [
    {
     "name": "stdout",
     "output_type": "stream",
     "text": [
      "[-2 -3 -4  4  0]\n"
     ]
    }
   ],
   "source": [
    "### your code here #2024\n",
    "print(M[:,2]) #column 3"
   ]
  },
  {
   "cell_type": "code",
   "execution_count": 239,
   "metadata": {},
   "outputs": [
    {
     "name": "stdout",
     "output_type": "stream",
     "text": [
      "[-2 -3 -4  4  0]\n"
     ]
    }
   ],
   "source": [
    "print(M[:,2]) #column 3"
   ]
  },
  {
   "cell_type": "markdown",
   "metadata": {},
   "source": [
    "#### Exercise 2\n",
    "Extract only the odd-indexed rows and columns, i.e. those with indices 1 and 3, of `M`\n",
    "\n",
    "**new:** Extract only the odd-indexed rows and columns, i.e. row 3 and 5 and column 1 and 3 of `M`\n",
    "Note: you should not hardcode such that your code still works if matrix size increases"
   ]
  },
  {
   "cell_type": "code",
   "execution_count": 240,
   "metadata": {},
   "outputs": [
    {
     "name": "stdout",
     "output_type": "stream",
     "text": [
      "[[ 3  3 -2  2  2]\n",
      " [-5 -1 -3  0 -3]\n",
      " [-3 -3 -4 -5  3]\n",
      " [-1 -5  4  1 -3]\n",
      " [-1 -4  0 -2 -1]] \n",
      "\n",
      "[[ 3 -2  2]\n",
      " [-3 -4  3]\n",
      " [-1  0 -1]]\n"
     ]
    }
   ],
   "source": [
    "### your code here #2024\n",
    "print(M,\"\\n\")\n",
    "print(M[0::2,0::2])"
   ]
  },
  {
   "cell_type": "code",
   "execution_count": 241,
   "metadata": {},
   "outputs": [
    {
     "name": "stdout",
     "output_type": "stream",
     "text": [
      "[[-3 -4]\n",
      " [-1  0]]\n"
     ]
    }
   ],
   "source": [
    "### your code here #2024\n",
    "#row 3 & 5 + column 1 & 3\n",
    "print(M[2::2,0:3:2])"
   ]
  },
  {
   "cell_type": "code",
   "execution_count": 242,
   "metadata": {},
   "outputs": [
    {
     "name": "stdout",
     "output_type": "stream",
     "text": [
      "[[ 3  3 -2  2  2]\n",
      " [-3 -3 -4 -5  3]\n",
      " [-1 -4  0 -2 -1]]\n"
     ]
    }
   ],
   "source": [
    "print(M[::2]) #extract row"
   ]
  },
  {
   "cell_type": "code",
   "execution_count": 243,
   "metadata": {},
   "outputs": [
    {
     "name": "stdout",
     "output_type": "stream",
     "text": [
      "[[ 3 -2  2]\n",
      " [-3 -4  3]\n",
      " [-1  0 -1]]\n"
     ]
    }
   ],
   "source": [
    "print(M[::2,::2])#extract row,column"
   ]
  },
  {
   "cell_type": "code",
   "execution_count": 244,
   "metadata": {},
   "outputs": [
    {
     "name": "stdout",
     "output_type": "stream",
     "text": [
      "[[-1  0]\n",
      " [-5  1]]\n"
     ]
    }
   ],
   "source": [
    "print(M[1:5:2,1:5:2]) #ans dr"
   ]
  },
  {
   "cell_type": "markdown",
   "metadata": {},
   "source": [
    "#### Exercise 3\n",
    "Extract the positive values of the matrix `M`"
   ]
  },
  {
   "cell_type": "code",
   "execution_count": 245,
   "metadata": {},
   "outputs": [],
   "source": [
    "### your code here"
   ]
  },
  {
   "cell_type": "code",
   "execution_count": 246,
   "metadata": {},
   "outputs": [
    {
     "name": "stdout",
     "output_type": "stream",
     "text": [
      "[[ 3  3 -2  2  2]\n",
      " [-5 -1 -3  0 -3]\n",
      " [-3 -3 -4 -5  3]\n",
      " [-1 -5  4  1 -3]\n",
      " [-1 -4  0 -2 -1]]\n"
     ]
    }
   ],
   "source": [
    "print(M)"
   ]
  },
  {
   "cell_type": "code",
   "execution_count": 247,
   "metadata": {},
   "outputs": [
    {
     "name": "stdout",
     "output_type": "stream",
     "text": [
      "[3 3 2 2 3 4 1]\n"
     ]
    }
   ],
   "source": [
    "mask = np.array([\n",
    "    [True, True, False, True, True], \n",
    "    [False, False, False, False, False], \n",
    "    [False,  False, False,  False, True], \n",
    "    [False,  False,  True, True, False], \n",
    "    [False, False, False, False, False]])\n",
    "print(M[mask])"
   ]
  },
  {
   "cell_type": "code",
   "execution_count": 248,
   "metadata": {},
   "outputs": [
    {
     "name": "stdout",
     "output_type": "stream",
     "text": [
      "[3 3 2 2 3 4 1]\n"
     ]
    }
   ],
   "source": [
    "print(M[M>0])"
   ]
  },
  {
   "cell_type": "markdown",
   "metadata": {},
   "source": [
    "#### Exercise 4\n",
    "Replace all negative values of matrix `M` with 0"
   ]
  },
  {
   "cell_type": "code",
   "execution_count": 249,
   "metadata": {},
   "outputs": [
    {
     "name": "stdout",
     "output_type": "stream",
     "text": [
      "[[ 3  3 -2  2  2]\n",
      " [-5 -1 -3  0 -3]\n",
      " [-3 -3 -4 -5  3]\n",
      " [-1 -5  4  1 -3]\n",
      " [-1 -4  0 -2 -1]]\n"
     ]
    }
   ],
   "source": [
    "### your code here\n",
    "print(M)"
   ]
  },
  {
   "cell_type": "code",
   "execution_count": 250,
   "metadata": {},
   "outputs": [
    {
     "name": "stdout",
     "output_type": "stream",
     "text": [
      "[-2 -5 -1 -3 -3 -3 -3 -4 -5 -1 -5 -3 -1 -4 -2 -1]\n"
     ]
    }
   ],
   "source": [
    "mask = np.array([\n",
    "    [True, True, False, True, True], \n",
    "    [False, False, False, True, False], \n",
    "    [False,  False, False,  False, True], \n",
    "    [False,  False,  True, True, False], \n",
    "    [False, False, True, False, False]])\n",
    "print(M[~mask])"
   ]
  },
  {
   "cell_type": "code",
   "execution_count": 251,
   "metadata": {},
   "outputs": [
    {
     "name": "stdout",
     "output_type": "stream",
     "text": [
      "[0 0 0 0 0 0 0 0 0 0 0 0 0 0 0 0]\n"
     ]
    }
   ],
   "source": [
    "M[~mask]=0\n",
    "print(M[~mask])"
   ]
  },
  {
   "cell_type": "code",
   "execution_count": 252,
   "metadata": {},
   "outputs": [
    {
     "name": "stdout",
     "output_type": "stream",
     "text": [
      "[[3 3 0 2 2]\n",
      " [0 0 0 0 0]\n",
      " [0 0 0 0 3]\n",
      " [0 0 4 1 0]\n",
      " [0 0 0 0 0]]\n"
     ]
    }
   ],
   "source": [
    "#np.random.seed(100)\n",
    "#M = np.random.randint(low=-5, high=5, size=(5, 5))\n",
    "print(M)"
   ]
  },
  {
   "cell_type": "code",
   "execution_count": 253,
   "metadata": {},
   "outputs": [
    {
     "name": "stdout",
     "output_type": "stream",
     "text": [
      "[[ 3  3 -2  2  2]\n",
      " [-5 -1 -3  0 -3]\n",
      " [-3 -3 -4 -5  3]\n",
      " [-1 -5  4  1 -3]\n",
      " [-1 -4  0 -2 -1]]\n"
     ]
    }
   ],
   "source": [
    "np.random.seed(100)\n",
    "M = np.random.randint(low=-5, high=5, size=(5, 5))\n",
    "print(M)"
   ]
  },
  {
   "cell_type": "code",
   "execution_count": 254,
   "metadata": {},
   "outputs": [
    {
     "name": "stdout",
     "output_type": "stream",
     "text": [
      "[-2 -5 -1 -3 -3 -3 -3 -4 -5 -1 -5 -3 -1 -4 -2 -1]\n"
     ]
    }
   ],
   "source": [
    "print(M[M<0])"
   ]
  },
  {
   "cell_type": "code",
   "execution_count": 255,
   "metadata": {},
   "outputs": [
    {
     "name": "stdout",
     "output_type": "stream",
     "text": [
      "[[3 3 0 2 2]\n",
      " [0 0 0 0 0]\n",
      " [0 0 0 0 3]\n",
      " [0 0 4 1 0]\n",
      " [0 0 0 0 0]]\n"
     ]
    }
   ],
   "source": [
    "M[M<0]=0\n",
    "print(M)"
   ]
  },
  {
   "cell_type": "markdown",
   "metadata": {},
   "source": [
    "#### Exercise 5\n",
    "We can use arrays to represent images. The function `create_stick_figure()` returns an array representing a grayscale image. The function `show_image(arr)` displays the array `arr` as an image. Use the array manipulation techniques we've learned so far to perform the following tasks.\n",
    "\n",
    "**a)** Remove unnecessary (black) background pixels on any side of the stick figure. <br/>\n",
    "**b)** Subset the trimmed image into three parts: one containing only the head, one containing the torso and arms, and one containing only the legs.<br/>\n",
    "**c)** Remove the arms in the original image by setting all pixels (array entries) corresponding to arms to black."
   ]
  },
  {
   "cell_type": "code",
   "execution_count": 256,
   "metadata": {},
   "outputs": [
    {
     "data": {
      "image/png": "[encoded data removed]",
      "text/plain": [
       "<Figure size 432x288 with 1 Axes>"
      ]
     },
     "metadata": {
      "needs_background": "light"
     },
     "output_type": "display_data"
    }
   ],
   "source": [
    "def create_stick_figure():\n",
    "    # Set grayscale values. 1 == white and 0 == black\n",
    "    head_val = 1\n",
    "    body_val = 0.25\n",
    "    arms_val = 0.5\n",
    "    legs_val = 0.75\n",
    "    # Create array\n",
    "    arr = np.zeros((21, 21))\n",
    "    # head\n",
    "    arr[(1, 5), 9:12] = head_val\n",
    "    arr[2:5, (8, 12)] = head_val \n",
    "    # body\n",
    "    arr[6:14, 10] = body_val\n",
    "    # arms\n",
    "    arr[7, 9:12] = arms_val\n",
    "    arr[8, (8, 12)] = arms_val\n",
    "    arr[9:12, (7, 13)] = arms_val\n",
    "    # legs\n",
    "    arr[14, (9, 11)] = legs_val\n",
    "    arr[15:20, (8, 12)] = legs_val\n",
    "    return arr\n",
    "\n",
    "def show_image(arr):\n",
    "    plt.imshow(arr, cmap='gray', vmin=0, vmax=1)\n",
    "    plt.xticks(np.arange(arr.shape[1], step=2))\n",
    "    plt.yticks(np.arange(arr.shape[0], step=2))\n",
    "    \n",
    "# Demo code\n",
    "image = create_stick_figure()\n",
    "show_image(image)"
   ]
  },
  {
   "cell_type": "code",
   "execution_count": 257,
   "metadata": {},
   "outputs": [
    {
     "data": {
      "image/png": "[encoded data removed]",
      "text/plain": [
       "<Figure size 432x288 with 1 Axes>"
      ]
     },
     "metadata": {
      "needs_background": "light"
     },
     "output_type": "display_data"
    }
   ],
   "source": [
    "#image_trimmed = image[1:-1, 7:14]\n",
    "image_trimmed = image[:, 7:10]\n",
    "show_image(image_trimmed)"
   ]
  },
  {
   "cell_type": "code",
   "execution_count": 258,
   "metadata": {},
   "outputs": [
    {
     "data": {
      "image/png": "[encoded data removed]",
      "text/plain": [
       "<Figure size 432x288 with 1 Axes>"
      ]
     },
     "metadata": {
      "needs_background": "light"
     },
     "output_type": "display_data"
    }
   ],
   "source": [
    "### your code here\n",
    "# a) Remove unnecessary (black) background pixels on any side of the stick figure.\n",
    "\n",
    "image_trimmed = image [:,6:15]\n",
    "show_image(image_trimmed)"
   ]
  },
  {
   "cell_type": "code",
   "execution_count": 259,
   "metadata": {},
   "outputs": [
    {
     "data": {
      "image/png": "[encoded data removed]",
      "text/plain": [
       "<Figure size 432x288 with 1 Axes>"
      ]
     },
     "metadata": {
      "needs_background": "light"
     },
     "output_type": "display_data"
    }
   ],
   "source": [
    "### your code here\n",
    "# b) Subset the trimmed image into three parts: \n",
    "#    one containing only the head, one containing the torso and arms, and one containing only the legs.\n",
    "head = image_trimmed [0:7,:]\n",
    "show_image(head)"
   ]
  },
  {
   "cell_type": "code",
   "execution_count": 260,
   "metadata": {},
   "outputs": [
    {
     "data": {
      "image/png": "[encoded data removed]",
      "text/plain": [
       "<Figure size 432x288 with 1 Axes>"
      ]
     },
     "metadata": {
      "needs_background": "light"
     },
     "output_type": "display_data"
    }
   ],
   "source": [
    "torso = image_trimmed [7:14,:]\n",
    "show_image(torso)"
   ]
  },
  {
   "cell_type": "code",
   "execution_count": 261,
   "metadata": {},
   "outputs": [
    {
     "data": {
      "image/png": "[encoded data removed]",
      "text/plain": [
       "<Figure size 432x288 with 1 Axes>"
      ]
     },
     "metadata": {
      "needs_background": "light"
     },
     "output_type": "display_data"
    }
   ],
   "source": [
    "legs = image_trimmed [14:,:]\n",
    "show_image(legs)"
   ]
  },
  {
   "cell_type": "code",
   "execution_count": 262,
   "metadata": {},
   "outputs": [
    {
     "data": {
      "image/png": "[encoded data removed]",
      "text/plain": [
       "<Figure size 432x288 with 1 Axes>"
      ]
     },
     "metadata": {
      "needs_background": "light"
     },
     "output_type": "display_data"
    }
   ],
   "source": [
    "### your code here\n",
    "# c) Remove the arms in the original image by setting all pixels (array entries) corresponding to arms to black.\n",
    "def create_stick_figure():\n",
    "    # Set grayscale values. 1 == white and 0 == black\n",
    "    head_val = 1\n",
    "    body_val = 0.25\n",
    "    arms_val = 0\n",
    "    legs_val = 0.75\n",
    "    # Create array\n",
    "    arr = np.zeros((21, 21))\n",
    "    # head\n",
    "    arr[(1, 5), 9:12] = head_val\n",
    "    arr[2:5, (8, 12)] = head_val \n",
    "    # body\n",
    "    arr[6:14, 10] = body_val\n",
    "    # arms\n",
    "    arr[7, 9:12] = arms_val\n",
    "    arr[8, (8, 12)] = arms_val\n",
    "    arr[9:12, (7, 13)] = arms_val\n",
    "    # legs\n",
    "    arr[14, (9, 11)] = legs_val\n",
    "    arr[15:20, (8, 12)] = legs_val\n",
    "    return arr\n",
    "\n",
    "def show_image(arr):\n",
    "    plt.imshow(arr, cmap='gray', vmin=0, vmax=1)\n",
    "    plt.xticks(np.arange(arr.shape[1], step=2))\n",
    "    plt.yticks(np.arange(arr.shape[0], step=2))\n",
    "    \n",
    "# Demo code\n",
    "image = create_stick_figure()\n",
    "show_image(image)"
   ]
  },
  {
   "cell_type": "code",
   "execution_count": 263,
   "metadata": {},
   "outputs": [
    {
     "data": {
      "image/png": "[encoded data removed]",
      "text/plain": [
       "<Figure size 432x288 with 1 Axes>"
      ]
     },
     "metadata": {
      "needs_background": "light"
     },
     "output_type": "display_data"
    }
   ],
   "source": [
    "def create_stick_figure():\n",
    "    # Set grayscale values. 1 == white and 0 == black\n",
    "    head_val = 1\n",
    "    body_val = 0.25\n",
    "    arms_val = 0\n",
    "    legs_val = 0.75\n",
    "    # Create array\n",
    "    arr = np.zeros((21, 21))\n",
    "    # head\n",
    "    arr[(1, 5), 9:12] = head_val\n",
    "    arr[2:5, (8, 12)] = head_val \n",
    "    # body\n",
    "    arr[6:14, 10] = body_val\n",
    "    # arms\n",
    "    arr[7, 9:12] = arms_val\n",
    "    arr[8, (8, 12)] = arms_val\n",
    "    arr[9:12, (7, 13)] = arms_val\n",
    "    # legs\n",
    "    arr[14, (9, 11)] = legs_val\n",
    "    arr[15:20, (8, 12)] = legs_val\n",
    "    return arr\n",
    "\n",
    "def show_image(arr):\n",
    "    plt.imshow(arr, cmap='gray', vmin=0, vmax=1)\n",
    "    plt.xticks(np.arange(arr.shape[1], step=2))\n",
    "    plt.yticks(np.arange(arr.shape[0], step=2))\n",
    "    \n",
    "# Demo code\n",
    "image = create_stick_figure()\n",
    "show_image(image)"
   ]
  },
  {
   "cell_type": "markdown",
   "metadata": {},
   "source": [
    "## Array Operations\n",
    "Apart from just manipulating array contents directly, we can also perform operations on them, such a logical, arithmetical, or aggregative operations."
   ]
  },
  {
   "cell_type": "markdown",
   "metadata": {},
   "source": [
    "### Logical Operations\n",
    "Logical operations on NumPy arrays evaluate a condition on every individual entry and return boolean arrays of the same shape as the original array."
   ]
  },
  {
   "cell_type": "code",
   "execution_count": 264,
   "metadata": {},
   "outputs": [
    {
     "name": "stdout",
     "output_type": "stream",
     "text": [
      "[[ -6  -7  -3   7   5]\n",
      " [ -9   4  -3   6  -8]\n",
      " [ -1   9  -8   4   7]\n",
      " [  6   5  -3   3  -4]\n",
      " [  2   8 -10  -8   0]]\n",
      "\n",
      "[[False False False  True  True]\n",
      " [False  True False  True False]\n",
      " [False  True False  True  True]\n",
      " [ True  True False  True False]\n",
      " [ True  True False False  True]]\n"
     ]
    }
   ],
   "source": [
    "M = np.random.randint(low=-10, high=10, size=(5, 5))\n",
    "print(M)\n",
    "print()\n",
    "print(M >= 0)"
   ]
  },
  {
   "cell_type": "markdown",
   "metadata": {},
   "source": [
    "We can, of course, use the resulting boolean array as a selection mask"
   ]
  },
  {
   "cell_type": "code",
   "execution_count": 265,
   "metadata": {},
   "outputs": [
    {
     "name": "stdout",
     "output_type": "stream",
     "text": [
      "[7 5 4 6 9 4 7 6 5 3 2 8 0]\n"
     ]
    }
   ],
   "source": [
    "print(M[M >= 0])"
   ]
  },
  {
   "cell_type": "markdown",
   "metadata": {},
   "source": [
    "and to assign new values"
   ]
  },
  {
   "cell_type": "code",
   "execution_count": 266,
   "metadata": {},
   "outputs": [
    {
     "name": "stdout",
     "output_type": "stream",
     "text": [
      "[[ -6  -7  -3  20  20]\n",
      " [ -9  20  -3  20  -8]\n",
      " [ -1  20  -8  20  20]\n",
      " [ 20  20  -3  20  -4]\n",
      " [ 20  20 -10  -8  20]]\n"
     ]
    }
   ],
   "source": [
    "M[M >= 0] = 20\n",
    "print(M)"
   ]
  },
  {
   "cell_type": "markdown",
   "metadata": {},
   "source": [
    "When using boolean arrays in conditions, for example `if` statements and other boolean expressions, one needs to use `any` or `all`, which requires that any or all elements in the array evalute to `True`:"
   ]
  },
  {
   "cell_type": "code",
   "execution_count": 267,
   "metadata": {},
   "outputs": [
    {
     "name": "stdout",
     "output_type": "stream",
     "text": [
      "[[ 1  4]\n",
      " [ 9 16]]\n",
      "\n",
      "True\n",
      "\n",
      "False\n"
     ]
    }
   ],
   "source": [
    "M = np.array([[ 1,  4],[ 9, 16]])\n",
    "print(M)\n",
    "print()\n",
    "\n",
    "print((M > 5).any()) #any >5 true\n",
    "print()\n",
    "\n",
    "print((M > 5).all()) #all >5 false"
   ]
  },
  {
   "cell_type": "markdown",
   "metadata": {},
   "source": [
    "Base Python doesn't play well with boolean arrays consisting of multiple values."
   ]
  },
  {
   "cell_type": "code",
   "execution_count": 268,
   "metadata": {},
   "outputs": [
    {
     "ename": "ValueError",
     "evalue": "The truth value of an array with more than one element is ambiguous. Use a.any() or a.all()",
     "output_type": "error",
     "traceback": [
      "\u001b[1;31m---------------------------------------------------------------------------\u001b[0m",
      "\u001b[1;31mValueError\u001b[0m                                Traceback (most recent call last)",
      "Input \u001b[1;32mIn [268]\u001b[0m, in \u001b[0;36m<cell line: 2>\u001b[1;34m()\u001b[0m\n\u001b[0;32m      1\u001b[0m \u001b[38;5;66;03m# Uncomment to run and see Exception\u001b[39;00m\n\u001b[1;32m----> 2\u001b[0m \u001b[38;5;28;01mif\u001b[39;00m (\u001b[43mM\u001b[49m\u001b[43m \u001b[49m\u001b[38;5;241;43m>\u001b[39;49m\u001b[43m \u001b[49m\u001b[38;5;241;43m5\u001b[39;49m):\n\u001b[0;32m      3\u001b[0m      \u001b[38;5;28mprint\u001b[39m(\u001b[38;5;124m\"\u001b[39m\u001b[38;5;124mHello World\u001b[39m\u001b[38;5;124m\"\u001b[39m)\n",
      "\u001b[1;31mValueError\u001b[0m: The truth value of an array with more than one element is ambiguous. Use a.any() or a.all()"
     ]
    }
   ],
   "source": [
    "# Uncomment to run and see Exception\n",
    "if (M > 5):\n",
    "     print(\"Hello World\")"
   ]
  },
  {
   "cell_type": "code",
   "execution_count": 269,
   "metadata": {},
   "outputs": [
    {
     "name": "stdout",
     "output_type": "stream",
     "text": [
      "Hello World\n"
     ]
    }
   ],
   "source": [
    "if (M > 5).any(): #True\n",
    "     print(\"Hello World\")"
   ]
  },
  {
   "cell_type": "code",
   "execution_count": 270,
   "metadata": {},
   "outputs": [
    {
     "name": "stdout",
     "output_type": "stream",
     "text": [
      "At least one element in M is larger than 5\n"
     ]
    }
   ],
   "source": [
    "#any\n",
    "if (M > 5).any(): #True\n",
    "    print(\"At least one element in M is larger than 5\")\n",
    "else:\n",
    "    print(\"No element in M is larger than 5\")"
   ]
  },
  {
   "cell_type": "code",
   "execution_count": 271,
   "metadata": {
    "scrolled": true
   },
   "outputs": [
    {
     "name": "stdout",
     "output_type": "stream",
     "text": [
      "Not all elements in M are larger than 5\n"
     ]
    }
   ],
   "source": [
    "#all\n",
    "if (M > 5).all(): #False\n",
    "    print(\"All elements in M are larger than 5\")\n",
    "else:\n",
    "    print(\"Not all elements in M are larger than 5\")"
   ]
  },
  {
   "cell_type": "markdown",
   "metadata": {},
   "source": [
    "### Arithmetic\n",
    "Arithemtical operations on NumPy arrays are performed on an element-by-element basis. We can either perform this arithmetic between an array and a scalar, i.e. a single number, or between two arrays.\n",
    "\n",
    "In the case of a scalar, the identical **operation (+-*/) is applied to every single array entry.**"
   ]
  },
  {
   "cell_type": "code",
   "execution_count": 272,
   "metadata": {},
   "outputs": [
    {
     "data": {
      "text/plain": [
       "array([1, 2, 3, 4])"
      ]
     },
     "execution_count": 272,
     "metadata": {},
     "output_type": "execute_result"
    }
   ],
   "source": [
    "v1 = np.arange(1, 5)\n",
    "v1"
   ]
  },
  {
   "cell_type": "code",
   "execution_count": 273,
   "metadata": {},
   "outputs": [
    {
     "data": {
      "text/plain": [
       "array([2, 4, 6, 8])"
      ]
     },
     "execution_count": 273,
     "metadata": {},
     "output_type": "execute_result"
    }
   ],
   "source": [
    "v1 * 2"
   ]
  },
  {
   "cell_type": "code",
   "execution_count": 274,
   "metadata": {},
   "outputs": [
    {
     "data": {
      "text/plain": [
       "array([3, 4, 5, 6])"
      ]
     },
     "execution_count": 274,
     "metadata": {},
     "output_type": "execute_result"
    }
   ],
   "source": [
    "v1 + 2"
   ]
  },
  {
   "cell_type": "code",
   "execution_count": 275,
   "metadata": {},
   "outputs": [
    {
     "name": "stdout",
     "output_type": "stream",
     "text": [
      "[[-4  3 -4]\n",
      " [ 0 -1 -3]\n",
      " [ 3 -2  0]]\n",
      "\n",
      "[[-8  6 -8]\n",
      " [ 0 -2 -6]\n",
      " [ 6 -4  0]]\n",
      "\n",
      "[[16  9 16]\n",
      " [ 0  1  9]\n",
      " [ 9  4  0]]\n"
     ]
    }
   ],
   "source": [
    "A = np.random.randint(low=-5, high=5, size=(3, 3))\n",
    "print(A)\n",
    "print()\n",
    "\n",
    "print(A * 2)\n",
    "print()\n",
    "\n",
    "print(A ** 2)"
   ]
  },
  {
   "cell_type": "markdown",
   "metadata": {},
   "source": [
    "When we add, subtract, multiply and divide arrays with each other, the default behaviour is element-wise operations:"
   ]
  },
  {
   "cell_type": "code",
   "execution_count": 276,
   "metadata": {},
   "outputs": [
    {
     "name": "stdout",
     "output_type": "stream",
     "text": [
      "[5 6 7 8 9]\n",
      "[0 1 2 3 4]\n",
      "\n",
      "[ 5  7  9 11 13]\n",
      "[   1    6   49  512 6561]\n"
     ]
    }
   ],
   "source": [
    "v1 = np.arange(start=5, stop=10)\n",
    "v2 = np.arange(start=0, stop=5)\n",
    "\n",
    "print(v1)\n",
    "print(v2)\n",
    "print()\n",
    "\n",
    "print(v1 + v2)\n",
    "print(v1 ** v2)"
   ]
  },
  {
   "cell_type": "markdown",
   "metadata": {},
   "source": [
    "### Aggregative Functions\n",
    "We can also aggregate over arrays using several built-in functions. For example,"
   ]
  },
  {
   "cell_type": "code",
   "execution_count": 277,
   "metadata": {},
   "outputs": [
    {
     "name": "stdout",
     "output_type": "stream",
     "text": [
      "[[0 9]\n",
      " [3 6]]\n",
      "\n",
      "18\n"
     ]
    }
   ],
   "source": [
    "A = np.random.randint(low=0, high=10, size=(2, 2))\n",
    "print(A)\n",
    "print()\n",
    "print(np.sum(A)) #sum all numbers"
   ]
  },
  {
   "cell_type": "markdown",
   "metadata": {},
   "source": [
    "NumPy provides many aggregation functions, but we won't discuss them in detail here.\n",
    "Additionally, most aggregates have a ``NaN``-safe counterpart that computes the result while ignoring missing values, which are marked by the special IEEE floating-point ``NaN`` value.\n",
    "Some of these ``NaN``-safe functions were not added until NumPy 1.8, so they will not be available in older NumPy versions.\n",
    "\n",
    "**The following table provides a list of useful aggregation functions available in NumPy:**\n",
    "\n",
    "|Function Name      |   NaN-safe Version  | Description                                   |\n",
    "|-------------------|---------------------|-----------------------------------------------|\n",
    "| ``np.sum``        | ``np.nansum``       | Compute sum of elements                       |\n",
    "| ``np.prod``       | ``np.nanprod``      | Compute product of elements                   |\n",
    "| ``np.mean``       | ``np.nanmean``      | Compute mean of elements                      |\n",
    "| ``np.std``        | ``np.nanstd``       | Compute standard deviation                    |\n",
    "| ``np.var``        | ``np.nanvar``       | Compute variance                              |\n",
    "| ``np.min``        | ``np.nanmin``       | Find minimum value                            |\n",
    "| ``np.max``        | ``np.nanmax``       | Find maximum value                            |\n",
    "| ``np.argmin``     | ``np.nanargmin``    | Find index of minimum value                   |\n",
    "| ``np.argmax``     | ``np.nanargmax``    | Find index of maximum value                   |\n",
    "| ``np.median``     | ``np.nanmedian``    | Compute median of elements                    |\n",
    "| ``np.percentile`` | ``np.nanpercentile``| Compute rank-based statistics of elements     |\n",
    "| ``np.any``        | N/A                 | Evaluate whether any elements are true        |\n",
    "| ``np.all``        | N/A                 | Evaluate whether all elements are true        |"
   ]
  },
  {
   "cell_type": "markdown",
   "metadata": {},
   "source": [
    "\"`NaN`-safe\" means that the function **ignores any missing values**, e.g."
   ]
  },
  {
   "cell_type": "code",
   "execution_count": 278,
   "metadata": {},
   "outputs": [
    {
     "name": "stdout",
     "output_type": "stream",
     "text": [
      "[[ 1.  2.]\n",
      " [ 3. nan]]\n",
      "\n",
      "nan\n",
      "6.0\n",
      "\n",
      "nan\n",
      "1.0\n"
     ]
    }
   ],
   "source": [
    "A = np.array([[1, 2], [3, np.nan]])\n",
    "print(A)\n",
    "print()\n",
    "\n",
    "print(np.sum(A)) #cannot compute = nan\n",
    "print(np.nansum(A)) #nansum, ignore missing values 'nan'\n",
    "print()\n",
    "\n",
    "print(np.min(A))\n",
    "print(np.nanmin(A))"
   ]
  },
  {
   "cell_type": "markdown",
   "metadata": {},
   "source": [
    "**Understanding Axis**\n",
    "\n",
    "We can apply these functions either to entire arrays or individual axes. To understand how the `axis` parameter works it's best to stop thinking of arrays as rows and columns but as nested lists. `axis=0` performs an operation along the outer-most dimension, e.g. if \n",
    "\n",
    "$$A = \\begin{matrix} [[1 & 5] \\\\ [2 & 2]] \\end{matrix}$$\n",
    "\n",
    "then the two arrays (1, 5) and (2, 2) would be added together elementwise, resulting in (3, 7). For `axis=1`, the individual elements of each array in the next layer would be added together, i.e. (1 + 5, 2 + 2) = (6, 4)."
   ]
  },
  {
   "cell_type": "markdown",
   "metadata": {},
   "source": [
    "<img src=\"../images/rowCol.jpg\" align=center> "
   ]
  },
  {
   "cell_type": "code",
   "execution_count": 366,
   "metadata": {},
   "outputs": [
    {
     "name": "stdout",
     "output_type": "stream",
     "text": [
      "[[1 5]\n",
      " [2 2]]\n",
      "\n",
      "[3 7]\n",
      "\n",
      "[6 4]\n"
     ]
    }
   ],
   "source": [
    "A = np.array([[1, 5], [2, 2]])\n",
    "print(A)\n",
    "print()\n",
    "\n",
    "print(np.sum(A, axis=0)) #row, sum at column\n",
    "print()\n",
    "print(np.sum(A, axis=1)) #column, sum at row"
   ]
  },
  {
   "cell_type": "markdown",
   "metadata": {},
   "source": [
    "<img src=\"../images/sumAxis.png\" align=center> "
   ]
  },
  {
   "cell_type": "code",
   "execution_count": 365,
   "metadata": {},
   "outputs": [
    {
     "name": "stdout",
     "output_type": "stream",
     "text": [
      "[[1 2 5]\n",
      " [4 3 7]\n",
      " [3 6 9]]\n",
      "\n",
      "[ 8 11 21]\n",
      "\n",
      "[ 8 14 18]\n"
     ]
    }
   ],
   "source": [
    "A = np.array([[1,2,5], [4,3,7],[3,6,9]])\n",
    "print(A)\n",
    "print()\n",
    "\n",
    "print(np.sum(A,axis=0)) #row, total sum at hujung column\n",
    "print()\n",
    "print(np.sum(A,axis=1)) #column, total sum at hujung row"
   ]
  },
  {
   "cell_type": "markdown",
   "metadata": {},
   "source": [
    "### Vectorization\n",
    "\n",
    "Vectorization in NumPy refers to the implementation of mathematical operations in compiled C code rather than interpreted Python code. This provides a substantial performance boost. Furthermore, due to NumPy's more intuitive treatment of array arithmetic, as much of a program's math should be formulated in terms of NumPy operations. Many packages, like Pandas, SciPy, and Scikit-Learn make use of this vectorization."
   ]
  },
  {
   "cell_type": "code",
   "execution_count": 280,
   "metadata": {
    "scrolled": true
   },
   "outputs": [
    {
     "name": "stdout",
     "output_type": "stream",
     "text": [
      "[1, 2, 3, 4, 5, 1, 2, 3, 4, 5]\n",
      "[1, 2, 3, 4, 5, 1, 2, 3, 4, 5, 1, 2, 3, 4, 5]\n",
      "\n",
      "[ 2  4  6  8 10]\n"
     ]
    }
   ],
   "source": [
    "# More intuitive treatment of lists versus arrays\n",
    "lis = [1,2,3,4,5]\n",
    "print(lis + lis)\n",
    "print(lis + lis+ lis)\n",
    "print()\n",
    "\n",
    "ary = np.array(lis)\n",
    "print(ary + ary)"
   ]
  },
  {
   "cell_type": "markdown",
   "metadata": {},
   "source": [
    "Achieving the same result in base Python requires loops"
   ]
  },
  {
   "cell_type": "code",
   "execution_count": 281,
   "metadata": {},
   "outputs": [
    {
     "data": {
      "text/plain": [
       "[2, 4, 6, 8, 10]"
      ]
     },
     "execution_count": 281,
     "metadata": {},
     "output_type": "execute_result"
    }
   ],
   "source": [
    "[x+x for x in lis]"
   ]
  },
  {
   "cell_type": "markdown",
   "metadata": {},
   "source": [
    "This takes substantially longer. NumPy is faster by a factor of over 100 when adding large lists together."
   ]
  },
  {
   "cell_type": "code",
   "execution_count": 282,
   "metadata": {},
   "outputs": [
    {
     "name": "stdout",
     "output_type": "stream",
     "text": [
      "588 µs ± 34.9 µs per loop (mean ± std. dev. of 7 runs, 1,000 loops each)\n",
      "6.51 µs ± 582 ns per loop (mean ± std. dev. of 7 runs, 100,000 loops each)\n"
     ]
    }
   ],
   "source": [
    "lis = range(10000)\n",
    "ary = np.array(lis)\n",
    "%timeit [x+x for x in lis]\n",
    "%timeit ary + ary"
   ]
  },
  {
   "cell_type": "markdown",
   "metadata": {},
   "source": [
    "We call operations on numpy arrays **vectorized**. This feature is the reason NumPy sits at the base of so many numerical and scientific Python libraries, e.g. scipy, scikit-learn and Pandas."
   ]
  },
  {
   "cell_type": "markdown",
   "metadata": {},
   "source": [
    "### Broadcasting\n",
    "If we can add arrays together element-wise then we also need to make sure we have rules in place for when their shape doesn't match. For example, we want `np.array([1,2,3]) * 2 = np.array([2,4,6])`. That means that the scalar 2 needs to be *broadcast* to the same shape as the array. NumPy defines three rules for broadcasting that determine how binary functions, e.g., addition, subtraction, multiplication, division, or exponentiation, are performed on arrays of different sizes.\n",
    "\n",
    "![Broadcasting](../images/broadcasting.png)\n",
    "\n",
    "- **Rule 1:** If the two arrays differ in their number of dimensions, the shape of the one with fewer dimensions is *padded* with ones on its leading (left) side.\n",
    "- **Rule 2:** If in any dimensions the sizes disagree and one of the arrays has a size of 1 in that dimension then that array is stretched to match the other shape.\n",
    "- **Rule 3:** If in any dimension the sizes disagree and neither is equal to 1, an error is raised."
   ]
  },
  {
   "cell_type": "markdown",
   "metadata": {},
   "source": [
    "#### Rule 1\n",
    "Let's take a moment to highlight a very important distinction between 1D arrays and 2D arrays with a single row. These may look and behave similarly but are, in fact, quite different."
   ]
  },
  {
   "cell_type": "code",
   "execution_count": 283,
   "metadata": {},
   "outputs": [
    {
     "name": "stdout",
     "output_type": "stream",
     "text": [
      "[1. 1. 1. 1. 1.]\n",
      "a1 shape: (5,)\n",
      "\n",
      "[[1. 1. 1. 1. 1.]]\n",
      "a2 shape: (1, 5)\n"
     ]
    }
   ],
   "source": [
    "a1 = np.ones(5) #1D\n",
    "print(a1)\n",
    "print(\"a1 shape: {}\".format(a1.shape))\n",
    "print()\n",
    "a2 = np.ones((1, 5)) #2D\n",
    "print(a2)\n",
    "print(\"a2 shape: {}\".format(a2.shape))"
   ]
  },
  {
   "cell_type": "markdown",
   "metadata": {},
   "source": [
    "The same applies to higher-dimensional arrays with more \"padded dimensions\", e.g."
   ]
  },
  {
   "cell_type": "code",
   "execution_count": 284,
   "metadata": {},
   "outputs": [
    {
     "name": "stdout",
     "output_type": "stream",
     "text": [
      "[[[[1. 1. 1. 1. 1.]]]]\n",
      "a3 shape: (1, 1, 1, 5)\n"
     ]
    }
   ],
   "source": [
    "a3 = np.ones((1, 1, 1, 5))\n",
    "print(a3)\n",
    "print(\"a3 shape: {}\".format(a3.shape))"
   ]
  },
  {
   "cell_type": "markdown",
   "metadata": {},
   "source": [
    "We will see later in this chapter that they behave differently with regards to indexing and stacking. For now, simply keep in mind that they have different dimensions despite containing the same data arranged in the same way, i.e. a single row.\n",
    "\n",
    "With this in mind, the following example highlights rule 1. Array `b` has a single dimension and must first be padded with an empty dimension before being added, element-wise, to array `a`."
   ]
  },
  {
   "cell_type": "code",
   "execution_count": 285,
   "metadata": {},
   "outputs": [
    {
     "name": "stdout",
     "output_type": "stream",
     "text": [
      "[[1 1 1]]\n",
      "\n",
      "[1 2 3]\n",
      "\n",
      "[[2 3 4]]\n"
     ]
    }
   ],
   "source": [
    "a = np.ones((1, 3), dtype=int)\n",
    "b = np.arange(1, 4)\n",
    "\n",
    "print(a)\n",
    "print(\"\")\n",
    "print(b)\n",
    "print(\"\")\n",
    "print(a + b)"
   ]
  },
  {
   "cell_type": "markdown",
   "metadata": {},
   "source": [
    "Scalars are a special case in this."
   ]
  },
  {
   "cell_type": "code",
   "execution_count": 286,
   "metadata": {},
   "outputs": [
    {
     "name": "stdout",
     "output_type": "stream",
     "text": [
      "[[1. 1. 1.]\n",
      " [1. 1. 1.]\n",
      " [1. 1. 1.]]\n",
      "\n",
      "[[6. 6. 6.]\n",
      " [6. 6. 6.]\n",
      " [6. 6. 6.]]\n"
     ]
    }
   ],
   "source": [
    "M = np.ones((3, 3))\n",
    "print(M)\n",
    "print()\n",
    "print(M + 5)"
   ]
  },
  {
   "cell_type": "markdown",
   "metadata": {},
   "source": [
    "#### Rule 2\n",
    "Both arrays have the same number of dimensions, but while `a` has 3 rows, `b` has only one. Therefore, `b` is stretched to have 3 rows and the two resulting matrices are added together element-wise."
   ]
  },
  {
   "cell_type": "code",
   "execution_count": 287,
   "metadata": {},
   "outputs": [
    {
     "name": "stdout",
     "output_type": "stream",
     "text": [
      "[[0 0 0]\n",
      " [0 0 0]\n",
      " [0 0 0]]\n",
      "a shape: (3, 3)\n",
      "\n",
      "[[1 2 3]]\n",
      "b shape: (1, 3)\n",
      "\n",
      "[[1 2 3]\n",
      " [1 2 3]\n",
      " [1 2 3]]\n"
     ]
    }
   ],
   "source": [
    "a = np.zeros((3, 3), dtype=int)\n",
    "b = np.array([[1, 2, 3]])\n",
    "\n",
    "print(a)\n",
    "print(\"a shape: {}\".format(a.shape))\n",
    "print(\"\")\n",
    "print(b)\n",
    "print(\"b shape: {}\".format(b.shape))\n",
    "print(\"\")\n",
    "print(a + b)"
   ]
  },
  {
   "cell_type": "markdown",
   "metadata": {},
   "source": [
    "In this example, `a` and `b` don't match in either dimension, but for each one, at least one of the arrays has a size of 1 so that they can be stretched accordingly. The result is a 3x3 matrix."
   ]
  },
  {
   "cell_type": "code",
   "execution_count": 288,
   "metadata": {},
   "outputs": [
    {
     "name": "stdout",
     "output_type": "stream",
     "text": [
      "[[1]\n",
      " [2]\n",
      " [3]]\n",
      "a shape: (3, 1)\n",
      "\n",
      "[[1 2 3]]\n",
      "b shape: (1, 3)\n",
      "\n",
      "[[2 3 4]\n",
      " [3 4 5]\n",
      " [4 5 6]]\n"
     ]
    }
   ],
   "source": [
    "a = np.array([[1], [2], [3]])\n",
    "b = np.array([[1, 2, 3]])\n",
    "\n",
    "print(a)\n",
    "print(\"a shape: {}\".format(a.shape))\n",
    "print(\"\")\n",
    "print(b)\n",
    "print(\"b shape: {}\".format(b.shape))\n",
    "print(\"\")\n",
    "print(a + b)"
   ]
  },
  {
   "cell_type": "markdown",
   "metadata": {},
   "source": [
    "Internally, NumPy expands this to:\n",
    "\n",
    "    1 1 1     1 2 3     2 3 4\n",
    "    2 2 2  +  1 2 3  =  3 4 5\n",
    "    3 3 3     1 2 3     4 5 6"
   ]
  },
  {
   "cell_type": "markdown",
   "metadata": {},
   "source": [
    "#### Rule 3\n",
    "Here, the second dimension doesn't match but neither of the arrays has a size of 1. NumPy doesn't know how to solve this problem this and throws an exception."
   ]
  },
  {
   "cell_type": "code",
   "execution_count": 289,
   "metadata": {},
   "outputs": [
    {
     "name": "stdout",
     "output_type": "stream",
     "text": [
      "[[1. 1.]\n",
      " [1. 1.]\n",
      " [1. 1.]]\n",
      "a shape: (3, 2)\n",
      "\n",
      "[[4 5 8]\n",
      " [7 4 1]\n",
      " [5 5 6]]\n",
      "b shape: (3, 3)\n",
      "\n"
     ]
    }
   ],
   "source": [
    "# Rule three\n",
    "a = np.ones((3, 2))\n",
    "b = np.random.randint(low=1, high=10, size=(3, 3))\n",
    "\n",
    "print(a)\n",
    "print(\"a shape: {}\".format(a.shape))\n",
    "print(\"\")\n",
    "print(b)\n",
    "print(\"b shape: {}\".format(b.shape))\n",
    "print(\"\")\n",
    "# Uncomment to see Exception\n",
    "#print(a + b)"
   ]
  },
  {
   "cell_type": "markdown",
   "metadata": {},
   "source": [
    "### Further Reading\n",
    "https://docs.scipy.org/doc/numpy-1.13.0/user/basics.broadcasting.html"
   ]
  },
  {
   "cell_type": "markdown",
   "metadata": {},
   "source": [
    "### Excercises"
   ]
  },
  {
   "cell_type": "markdown",
   "metadata": {},
   "source": [
    "#### Exercise 1\n",
    "Create two 8x8 arrays of random integers. The first should have only negative numbers between -10 and -1 (inclusive) and the second should have only positive numbers between 1 and 10 (inclusive). Add them together and save the result as a variable `A`."
   ]
  },
  {
   "cell_type": "code",
   "execution_count": 290,
   "metadata": {},
   "outputs": [
    {
     "name": "stdout",
     "output_type": "stream",
     "text": [
      "[[ -3  -4  -4  -8  -6  -8  -3  -9]\n",
      " [ -4  -4 -10  -3  -8  -7  -5  -6]\n",
      " [ -8  -6  -7  -3  -1 -10 -10  -5]\n",
      " [ -1  -4  -4  -5  -4  -6  -3  -7]\n",
      " [ -1  -8  -7  -2  -3  -9  -5  -1]\n",
      " [ -7 -10  -4  -8  -7  -6  -2  -1]\n",
      " [ -2  -5  -8  -3  -5  -1 -10  -1]\n",
      " [ -2  -4  -8 -10  -5  -7  -8  -7]] \n",
      "\n",
      "[[ 7  5  2  4  2  5  9  9]\n",
      " [ 3  3  8  3  2  3  8  2]\n",
      " [ 1  6  4  6  3  7  2  2]\n",
      " [ 6 10  3  6  7  5  7  8]\n",
      " [10  8  4  1  3  6  2  2]\n",
      " [ 1  4  7  8  4  7  5  9]\n",
      " [ 7  6  1  1  6  2  4  3]\n",
      " [ 4  2  1  7  6  3  1  1]] \n",
      "\n",
      "[[ 4  1 -2 -4 -4 -3  6  0]\n",
      " [-1 -1 -2  0 -6 -4  3 -4]\n",
      " [-7  0 -3  3  2 -3 -8 -3]\n",
      " [ 5  6 -1  1  3 -1  4  1]\n",
      " [ 9  0 -3 -1  0 -3 -3  1]\n",
      " [-6 -6  3  0 -3  1  3  8]\n",
      " [ 5  1 -7 -2  1  1 -6  2]\n",
      " [ 2 -2 -7 -3  1 -4 -7 -6]]\n"
     ]
    }
   ],
   "source": [
    "### Your code here 2024\n",
    "a1 = np.random.randint(low=-10, high=0, size=(8, 8))\n",
    "print(a1,\"\\n\")\n",
    "a2 = np.random.randint(low=1, high=11, size=(8, 8))\n",
    "print(a2,\"\\n\")\n",
    "A=a1+a2\n",
    "print(A)"
   ]
  },
  {
   "cell_type": "code",
   "execution_count": 291,
   "metadata": {},
   "outputs": [
    {
     "name": "stdout",
     "output_type": "stream",
     "text": [
      "[[ -9  -9  -5  -3  -8  -7  -4  -7]\n",
      " [ -9  -5  -6  -5  -7  -8  -9  -6]\n",
      " [ -6  -9  -3  -5  -4  -6  -7  -4]\n",
      " [ -6  -7  -3  -3  -5  -5  -8  -6]\n",
      " [ -7  -8  -5 -10  -8 -10  -4 -10]\n",
      " [ -9  -5  -5  -4  -4  -6  -4  -5]\n",
      " [-10 -10  -7 -10  -5  -9  -6  -7]\n",
      " [ -6  -8  -5 -10  -3  -9  -6  -4]]\n",
      "\n",
      "[[ 1  8  4 10  2  3  8  8]\n",
      " [ 7  5  4  4  4  5  8  8]\n",
      " [ 5  2  2  9  8  9  9  9]\n",
      " [ 8 10  1  7  1  8  5  6]\n",
      " [ 2  6  6  4  5  4  7  6]\n",
      " [ 1  1  7  2 10  9  1  4]\n",
      " [10  3  7  6  5  6  8  4]\n",
      " [ 1  8  9  3  1  6  1 10]]\n"
     ]
    }
   ],
   "source": [
    "A1 = np.random.randint(low=-10, high=-2, size=(8, 8))  #salah, exlcluded -2 and -1\n",
    "print(A1)\n",
    "\n",
    "print()\n",
    "A2 = np.random.randint(low=1, high=11, size=(8, 8)) \n",
    "print(A2)"
   ]
  },
  {
   "cell_type": "code",
   "execution_count": 292,
   "metadata": {},
   "outputs": [
    {
     "name": "stdout",
     "output_type": "stream",
     "text": [
      "[[-8 -1 -1  7 -6 -4  4  1]\n",
      " [-2  0 -2 -1 -3 -3 -1  2]\n",
      " [-1 -7 -1  4  4  3  2  5]\n",
      " [ 2  3 -2  4 -4  3 -3  0]\n",
      " [-5 -2  1 -6 -3 -6  3 -4]\n",
      " [-8 -4  2 -2  6  3 -3 -1]\n",
      " [ 0 -7  0 -4  0 -3  2 -3]\n",
      " [-5  0  4 -7 -2 -3 -5  6]]\n"
     ]
    }
   ],
   "source": [
    "A = A1+A2\n",
    "print(A)"
   ]
  },
  {
   "cell_type": "markdown",
   "metadata": {},
   "source": [
    "#### Exercise 2\n",
    "Calculate the mean of the entire matrix `A`."
   ]
  },
  {
   "cell_type": "code",
   "execution_count": 293,
   "metadata": {},
   "outputs": [
    {
     "name": "stdout",
     "output_type": "stream",
     "text": [
      "-0.96875\n"
     ]
    }
   ],
   "source": [
    "### Your code here\n",
    "print(np.mean(A))"
   ]
  },
  {
   "cell_type": "code",
   "execution_count": 294,
   "metadata": {},
   "outputs": [
    {
     "name": "stdout",
     "output_type": "stream",
     "text": [
      "-0.96875\n"
     ]
    }
   ],
   "source": [
    "print(np.mean(A))"
   ]
  },
  {
   "cell_type": "markdown",
   "metadata": {},
   "source": [
    "#### Exercise 3\n",
    "How many of the entries of the resulting matrix `A` are positive, negative, and zero?"
   ]
  },
  {
   "cell_type": "code",
   "execution_count": 295,
   "metadata": {},
   "outputs": [
    {
     "name": "stdout",
     "output_type": "stream",
     "text": [
      "positive\n",
      "[7 4 1 2 4 4 3 2 5 2 3 4 3 1 3 2 6 3 2 4 6]\n",
      "21\n",
      "\n",
      "negative\n",
      "[-8 -1 -1 -6 -4 -2 -2 -1 -3 -3 -1 -1 -7 -1 -2 -4 -3 -5 -2 -6 -3 -6 -4 -8\n",
      " -4 -2 -3 -1 -7 -4 -3 -3 -5 -7 -2 -3 -5]\n",
      "37\n",
      "\n",
      "zero\n",
      "[0 0 0 0 0 0]\n",
      "6\n"
     ]
    }
   ],
   "source": [
    "### Your code here #2024\n",
    "print(\"positive\")\n",
    "print(A[A>0])\n",
    "print(len(A[A>0]))\n",
    "print(\"\\nnegative\")\n",
    "print(A[A<0])\n",
    "print(len(A[A<0]))\n",
    "print(\"\\nzero\")\n",
    "print(A[A==0])\n",
    "print(len(A[A==0]))"
   ]
  },
  {
   "cell_type": "code",
   "execution_count": 296,
   "metadata": {},
   "outputs": [
    {
     "name": "stdout",
     "output_type": "stream",
     "text": [
      "Positive in matrix A:\n",
      "[7 4 1 2 4 4 3 2 5 2 3 4 3 1 3 2 6 3 2 4 6]\n",
      "21\n",
      "\n",
      "Negative in matrix A:\n",
      "[-8 -1 -1 -6 -4 -2 -2 -1 -3 -3 -1 -1 -7 -1 -2 -4 -3 -5 -2 -6 -3 -6 -4 -8\n",
      " -4 -2 -3 -1 -7 -4 -3 -3 -5 -7 -2 -3 -5]\n",
      "37\n",
      "\n",
      "Zero in matrix A:\n",
      "[0 0 0 0 0 0]\n",
      "6\n"
     ]
    }
   ],
   "source": [
    "print('Positive in matrix A:')\n",
    "print(A[A>0])\n",
    "print(len(A[A>0]))\n",
    "\n",
    "print('\\nNegative in matrix A:')\n",
    "print(A[A<0])\n",
    "print(len(A[A<0]))\n",
    "\n",
    "print('\\nZero in matrix A:')\n",
    "print(A[A==0])\n",
    "print(len(A[A==0]))\n"
   ]
  },
  {
   "cell_type": "code",
   "execution_count": 297,
   "metadata": {},
   "outputs": [
    {
     "ename": "ValueError",
     "evalue": "The truth value of an array with more than one element is ambiguous. Use a.any() or a.all()",
     "output_type": "error",
     "traceback": [
      "\u001b[1;31m---------------------------------------------------------------------------\u001b[0m",
      "\u001b[1;31mValueError\u001b[0m                                Traceback (most recent call last)",
      "Input \u001b[1;32mIn [297]\u001b[0m, in \u001b[0;36m<cell line: 2>\u001b[1;34m()\u001b[0m\n\u001b[0;32m      1\u001b[0m Count \u001b[38;5;241m=\u001b[39m \u001b[38;5;241m0\u001b[39m\n\u001b[0;32m      2\u001b[0m \u001b[38;5;28;01mfor\u001b[39;00m i \u001b[38;5;129;01min\u001b[39;00m [A]:\n\u001b[1;32m----> 3\u001b[0m     \u001b[38;5;28;01mif\u001b[39;00m (\u001b[43mi\u001b[49m\u001b[43m \u001b[49m\u001b[38;5;241;43m>\u001b[39;49m\u001b[43m \u001b[49m\u001b[38;5;241;43m0\u001b[39;49m):\n\u001b[0;32m      4\u001b[0m         Count \u001b[38;5;241m=\u001b[39m Count \u001b[38;5;241m+\u001b[39m \u001b[38;5;241m1\u001b[39m\n\u001b[0;32m      5\u001b[0m     \u001b[38;5;28;01melse\u001b[39;00m:\n",
      "\u001b[1;31mValueError\u001b[0m: The truth value of an array with more than one element is ambiguous. Use a.any() or a.all()"
     ]
    }
   ],
   "source": [
    "Count = 0\n",
    "for i in [A]:\n",
    "    if (i > 0):\n",
    "        Count = Count + 1\n",
    "    else:\n",
    "        Count = Count + 1\n"
   ]
  },
  {
   "cell_type": "markdown",
   "metadata": {},
   "source": [
    "#### Exercise 4\n",
    "Calculate the mean of every row and column of the matrix `A`"
   ]
  },
  {
   "cell_type": "code",
   "execution_count": 357,
   "metadata": {},
   "outputs": [
    {
     "name": "stdout",
     "output_type": "stream",
     "text": [
      "[2. 5.]\n",
      "[2.5 3.5 4.5]\n"
     ]
    }
   ],
   "source": [
    "### Your code here 2024\n",
    "\n",
    "print(np.mean(A, axis=0)) #row\n",
    "print(np.mean(A, axis=1)) #column"
   ]
  },
  {
   "cell_type": "code",
   "execution_count": 358,
   "metadata": {},
   "outputs": [
    {
     "name": "stdout",
     "output_type": "stream",
     "text": [
      "[0.75  1.875]\n",
      "[2. 5.]\n",
      "\n",
      "[0.625 0.875 1.125]\n",
      "[2.5 3.5 4.5]\n"
     ]
    }
   ],
   "source": [
    "print(np.sum(A, axis=0)/8)\n",
    "print(np.mean(A, axis=0))\n",
    "print()\n",
    "\n",
    "print(np.sum(A, axis=1)/8)\n",
    "print(np.mean(A, axis=1))"
   ]
  },
  {
   "cell_type": "markdown",
   "metadata": {},
   "source": [
    "#### Exercise 5\n",
    "Make use of broadcasting rules to multiply the first row of the following array by 2, the second row by 3 and the third row by 4."
   ]
  },
  {
   "cell_type": "code",
   "execution_count": 298,
   "metadata": {},
   "outputs": [
    {
     "name": "stdout",
     "output_type": "stream",
     "text": [
      "[[1 2 3]\n",
      " [1 2 3]\n",
      " [1 2 3]]\n",
      "a shape: (3, 3)\n",
      "\n",
      "[[2]\n",
      " [3]\n",
      " [4]]\n",
      "b shape: (3, 1)\n",
      "\n",
      "[[ 2  4  6]\n",
      " [ 3  6  9]\n",
      " [ 4  8 12]]\n"
     ]
    }
   ],
   "source": [
    "#2024\n",
    "A = np.array([\n",
    "    [1, 2, 3], \n",
    "    [1, 2, 3], \n",
    "    [1, 2, 3]])\n",
    "\n",
    "B = np.array([[2], [3], [4]])\n",
    "\n",
    "print(A)\n",
    "print(\"a shape: {}\".format(A.shape))\n",
    "print(\"\")\n",
    "print(B)\n",
    "print(\"b shape: {}\".format(B.shape))\n",
    "print(\"\")\n",
    "print(A * B) #firstRow*2, second*3, third*4"
   ]
  },
  {
   "cell_type": "code",
   "execution_count": 299,
   "metadata": {},
   "outputs": [
    {
     "data": {
      "text/plain": [
       "(3, 3)"
      ]
     },
     "execution_count": 299,
     "metadata": {},
     "output_type": "execute_result"
    }
   ],
   "source": [
    "### Your code here\n",
    "A = np.array([\n",
    "    [1, 2, 3], \n",
    "    [1, 2, 3], \n",
    "    [1, 2, 3]])\n",
    "A.shape"
   ]
  },
  {
   "cell_type": "code",
   "execution_count": 300,
   "metadata": {},
   "outputs": [
    {
     "data": {
      "text/plain": [
       "(3, 1)"
      ]
     },
     "execution_count": 300,
     "metadata": {},
     "output_type": "execute_result"
    }
   ],
   "source": [
    "B = np.array([[2],[3],[4]])\n",
    "B.shape"
   ]
  },
  {
   "cell_type": "code",
   "execution_count": 301,
   "metadata": {},
   "outputs": [
    {
     "name": "stdout",
     "output_type": "stream",
     "text": [
      "[[ 2  4  6]\n",
      " [ 3  6  9]\n",
      " [ 4  8 12]]\n"
     ]
    }
   ],
   "source": [
    "print(A*B) #firstRow*2, second*3, third*4"
   ]
  },
  {
   "cell_type": "markdown",
   "metadata": {},
   "source": [
    "## Advanced Manipulation "
   ]
  },
  {
   "cell_type": "markdown",
   "metadata": {},
   "source": [
    "### Reshaping and Transposing\n",
    "On disk, NumPy arrays are stored by their values and their shapes separately. That means we can change the shape of an array very quickly, regardless of the actual size. The array dimensions must match, i.e. the new shape must have space for exactly as many elements as the old shape. \n",
    "\n",
    "Elements are reshaped in an \"inside-out\" fashion. That means the inner-most dimensions are filled with values first and then combined in the outer dimensions. In the context of 2D matrices, this means that values are set rows-first."
   ]
  },
  {
   "cell_type": "code",
   "execution_count": 302,
   "metadata": {},
   "outputs": [
    {
     "name": "stdout",
     "output_type": "stream",
     "text": [
      "[ 0  1  2  3  4  5  6  7  8  9 10 11]\n",
      "\n",
      "[[ 0  1  2  3]\n",
      " [ 4  5  6  7]\n",
      " [ 8  9 10 11]]\n",
      "\n",
      "[[ 0  1]\n",
      " [ 2  3]\n",
      " [ 4  5]\n",
      " [ 6  7]\n",
      " [ 8  9]\n",
      " [10 11]]\n"
     ]
    }
   ],
   "source": [
    "a = np.arange(12)\n",
    "print(a)\n",
    "print()\n",
    "print(a.reshape(3, 4))\n",
    "print()\n",
    "print(a.reshape(6, 2))"
   ]
  },
  {
   "cell_type": "markdown",
   "metadata": {},
   "source": [
    "Alternatively, we can also transpose matrices. Transposing means that the order of dimensions become flipped, i.e. the first dimensions becomes the last, the last the first, etc. Consequently, **transposing 1D arrays has no effect**."
   ]
  },
  {
   "cell_type": "markdown",
   "metadata": {},
   "source": [
    "<img src=\"../images/Transpose.png\"> "
   ]
  },
  {
   "cell_type": "code",
   "execution_count": 303,
   "metadata": {},
   "outputs": [
    {
     "name": "stdout",
     "output_type": "stream",
     "text": [
      "[ 0  1  2  3  4  5  6  7  8  9 10 11]\n",
      "[ 0  1  2  3  4  5  6  7  8  9 10 11]\n"
     ]
    }
   ],
   "source": [
    "print(a) #1D array no effect when transposing\n",
    "print(a.transpose())"
   ]
  },
  {
   "cell_type": "markdown",
   "metadata": {},
   "source": [
    "Transposing 2D arrays means that rows become columns and columns become rows."
   ]
  },
  {
   "cell_type": "code",
   "execution_count": 304,
   "metadata": {},
   "outputs": [
    {
     "name": "stdout",
     "output_type": "stream",
     "text": [
      "[[ 0  1  2  3  4]\n",
      " [ 5  6  7  8  9]\n",
      " [10 11 12 13 14]]\n",
      "\n",
      "[[ 0  5 10]\n",
      " [ 1  6 11]\n",
      " [ 2  7 12]\n",
      " [ 3  8 13]\n",
      " [ 4  9 14]]\n"
     ]
    }
   ],
   "source": [
    "A = np.arange(15).reshape(3, 5)\n",
    "print(A)\n",
    "print()\n",
    "print(A.transpose())"
   ]
  },
  {
   "cell_type": "code",
   "execution_count": null,
   "metadata": {},
   "outputs": [],
   "source": []
  },
  {
   "cell_type": "markdown",
   "metadata": {},
   "source": [
    "For higher-dimensional arrays, the order of the dimensions reverses. Within this new shape, values are then set in the same \"inside-out\" fashion."
   ]
  },
  {
   "cell_type": "code",
   "execution_count": 305,
   "metadata": {},
   "outputs": [
    {
     "name": "stdout",
     "output_type": "stream",
     "text": [
      "(2, 3, 4, 5, 6)\n",
      "\n",
      "(6, 5, 4, 3, 2)\n"
     ]
    }
   ],
   "source": [
    "A = np.random.randint(low=-5, high=5, size=(2, 3, 4, 5, 6))\n",
    "print(A.shape)                             #0, 1, 2, 3, 4\n",
    "print()\n",
    "print(A.transpose().shape)"
   ]
  },
  {
   "cell_type": "markdown",
   "metadata": {},
   "source": [
    "Alternatively, we can also define how we want to reorder the dimensions."
   ]
  },
  {
   "cell_type": "code",
   "execution_count": 306,
   "metadata": {},
   "outputs": [
    {
     "name": "stdout",
     "output_type": "stream",
     "text": [
      "(2, 3, 4, 5, 6)\n",
      "\n",
      "(2, 3, 4, 6, 5)\n"
     ]
    }
   ],
   "source": [
    "print(A.shape)\n",
    "print()\n",
    "print(A.transpose((0, 1, 2, 4, 3)).shape) \n",
    "                  #0, 1, 2, 4, 3"
   ]
  },
  {
   "cell_type": "markdown",
   "metadata": {},
   "source": [
    "To help you understand what is happening here, it is easiest to picture this as creating an empty array with a specified shape and then filling it with the values of the original array, even though this isn't actually what happens \"under the hood\"."
   ]
  },
  {
   "cell_type": "markdown",
   "metadata": {},
   "source": [
    "### Adding a new dimension with `newaxis`\n",
    "\n",
    "With newaxis, we can insert new dimensions in an array, for example converting a vector to a column or row matrix."
   ]
  },
  {
   "cell_type": "code",
   "execution_count": 307,
   "metadata": {},
   "outputs": [
    {
     "name": "stdout",
     "output_type": "stream",
     "text": [
      "[0 1 2 3 4]\n",
      "(5,)\n",
      "\n",
      "[[0 1 2 3 4]]\n",
      "(1, 5)\n",
      "\n",
      "[[0]\n",
      " [1]\n",
      " [2]\n",
      " [3]\n",
      " [4]]\n",
      "(5, 1)\n",
      "\n"
     ]
    }
   ],
   "source": [
    "v = np.arange(5) #1D?\n",
    "print(v)\n",
    "print(v.shape)\n",
    "print()\n",
    "\n",
    "v2 = v[np.newaxis, :] #2D newaxis=1?\n",
    "print(v2)\n",
    "print(v2.shape)\n",
    "print()\n",
    "\n",
    "v3 = v[:, np.newaxis] #2D\n",
    "print(v3)\n",
    "print(v3.shape)\n",
    "print()"
   ]
  },
  {
   "cell_type": "markdown",
   "metadata": {},
   "source": [
    "This is essentially shorthand for reshaping an array and becomes useful when we don't want to explictly list the old dimensions of the array, e.g."
   ]
  },
  {
   "cell_type": "code",
   "execution_count": 308,
   "metadata": {},
   "outputs": [
    {
     "name": "stdout",
     "output_type": "stream",
     "text": [
      "[[ 3  1 -5 -4]\n",
      " [ 4  4  1  2]\n",
      " [-3 -3 -1 -4]]\n",
      "(3, 4)\n",
      "\n",
      "[[[ 3  1 -5 -4]]\n",
      "\n",
      " [[ 4  4  1  2]]\n",
      "\n",
      " [[-3 -3 -1 -4]]]\n",
      "(3, 1, 4)\n",
      "\n",
      "[[[ 3]\n",
      "  [ 1]\n",
      "  [-5]\n",
      "  [-4]]\n",
      "\n",
      " [[ 4]\n",
      "  [ 4]\n",
      "  [ 1]\n",
      "  [ 2]]\n",
      "\n",
      " [[-3]\n",
      "  [-3]\n",
      "  [-1]\n",
      "  [-4]]]\n",
      "(3, 4, 1)\n"
     ]
    }
   ],
   "source": [
    "A = np.random.randint(low=-5, high=5, size=(3, 4))\n",
    "print(A)\n",
    "print(A.shape)\n",
    "print()\n",
    "\n",
    "A2 = A[:, np.newaxis,:] #axis/number, row, column (new axis=1?) [3,1,4]\n",
    "print(A2)\n",
    "print(A2.shape)\n",
    "print()\n",
    "\n",
    "# We have to explicitly list the old dimensions\n",
    "A3 = A.reshape(3, 4, 1)\n",
    "print(A3)\n",
    "print(A3.shape)"
   ]
  },
  {
   "cell_type": "markdown",
   "metadata": {},
   "source": [
    "### Concatenation and Splitting\n",
    "We can concatenate arrays along given axes. In order to be concatenated, they must have the same number of dimensions and their shapes must match in all dimensions but the one being concatenated along"
   ]
  },
  {
   "cell_type": "code",
   "execution_count": 309,
   "metadata": {},
   "outputs": [
    {
     "name": "stdout",
     "output_type": "stream",
     "text": [
      "A\n",
      "[0 1 2 3 4 5 6 7 8 9]\n",
      "(10,)\n",
      "\n",
      "B\n",
      "[[20 21 22 23 24 25 26 27 28 29]\n",
      " [30 31 32 33 34 35 36 37 38 39]]\n",
      "(2, 10)\n",
      "\n"
     ]
    }
   ],
   "source": [
    "A = np.arange(10)\n",
    "B = np.arange(20, 40).reshape((2,10))\n",
    "\n",
    "print('A')\n",
    "print(A)\n",
    "print(A.shape)\n",
    "print()\n",
    "\n",
    "print('B')\n",
    "print(B)\n",
    "print(B.shape)\n",
    "print()"
   ]
  },
  {
   "cell_type": "code",
   "execution_count": 310,
   "metadata": {},
   "outputs": [
    {
     "name": "stdout",
     "output_type": "stream",
     "text": [
      "[0 1 2 3 4 5 6 7 8 9 0 1 2 3 4 5 6 7 8 9]\n",
      "\n",
      "[[20 21 22 23 24 25 26 27 28 29]\n",
      " [30 31 32 33 34 35 36 37 38 39]\n",
      " [20 21 22 23 24 25 26 27 28 29]\n",
      " [30 31 32 33 34 35 36 37 38 39]]\n"
     ]
    }
   ],
   "source": [
    "print(np.concatenate((A, A)))\n",
    "print()\n",
    "\n",
    "print(np.concatenate((B, B)))"
   ]
  },
  {
   "cell_type": "markdown",
   "metadata": {},
   "source": [
    "By default, `np.concatenate` will combine arrays along `axis=0`. We can specify the axis along which to concatenate, however."
   ]
  },
  {
   "cell_type": "code",
   "execution_count": 311,
   "metadata": {},
   "outputs": [
    {
     "name": "stdout",
     "output_type": "stream",
     "text": [
      "[[20 21 22 23 24 25 26 27 28 29 20 21 22 23 24 25 26 27 28 29]\n",
      " [30 31 32 33 34 35 36 37 38 39 30 31 32 33 34 35 36 37 38 39]]\n"
     ]
    }
   ],
   "source": [
    "print(np.concatenate((B, B), axis=1))  #axis 1=column"
   ]
  },
  {
   "cell_type": "code",
   "execution_count": 312,
   "metadata": {},
   "outputs": [
    {
     "name": "stdout",
     "output_type": "stream",
     "text": [
      "[[20 21 22 23 24 25 26 27 28 29]\n",
      " [30 31 32 33 34 35 36 37 38 39]\n",
      " [20 21 22 23 24 25 26 27 28 29]\n",
      " [30 31 32 33 34 35 36 37 38 39]]\n"
     ]
    }
   ],
   "source": [
    "print(np.concatenate((B, B), axis=0)) #axis 0=row"
   ]
  },
  {
   "cell_type": "markdown",
   "metadata": {},
   "source": [
    "While `np.concatenate` joins arrays along existing axes, `np.stack` combines them along new axes."
   ]
  },
  {
   "cell_type": "code",
   "execution_count": 314,
   "metadata": {},
   "outputs": [
    {
     "name": "stdout",
     "output_type": "stream",
     "text": [
      "[0 1 2 3 4 5 6 7 8 9]\n",
      "(10,)\n",
      "\n",
      "[[0 1 2 3 4 5 6 7 8 9]\n",
      " [0 1 2 3 4 5 6 7 8 9]]\n",
      "(2, 10)\n",
      "\n",
      "[[0 0]\n",
      " [1 1]\n",
      " [2 2]\n",
      " [3 3]\n",
      " [4 4]\n",
      " [5 5]\n",
      " [6 6]\n",
      " [7 7]\n",
      " [8 8]\n",
      " [9 9]]\n",
      "(10, 2)\n"
     ]
    }
   ],
   "source": [
    "print(A)\n",
    "print(A.shape)\n",
    "print()\n",
    "\n",
    "A2 = np.stack((A, A), axis=0) #axis 0=row\n",
    "print(A2)\n",
    "print(A2.shape)\n",
    "print()\n",
    "\n",
    "A3 = np.stack((A, A), axis=1) #axis 1=column\n",
    "print(A3)\n",
    "print(A3.shape)"
   ]
  },
  {
   "cell_type": "markdown",
   "metadata": {},
   "source": [
    "We can also split arrays along a certain axis into sections. We can either dictate how many equally sized parts the array should be split into or we can determine specifically where to split the array"
   ]
  },
  {
   "cell_type": "code",
   "execution_count": 372,
   "metadata": {},
   "outputs": [
    {
     "name": "stdout",
     "output_type": "stream",
     "text": [
      "[ 0  1  2  3  4  5  6  7  8  9 10 11]\n",
      "\n",
      "[array([0, 1, 2, 3]), array([4, 5, 6, 7]), array([ 8,  9, 10, 11])]\n",
      "\n",
      "[array([0, 1]), array([2]), array([3, 4, 5, 6, 7]), array([ 8,  9, 10, 11])]\n",
      "[array([0, 1, 2]), array([3, 4]), array([5, 6, 7, 8, 9]), array([10, 11])]\n"
     ]
    }
   ],
   "source": [
    "A = np.arange(12)\n",
    "print(A)\n",
    "print()\n",
    "# Split into 3 equally sized parts\n",
    "print(np.split(A, 3))\n",
    "print()\n",
    "# Split at specific indices\n",
    "print(np.split(A, (2, 3, 8))) #split at before the 2nd, 3rd and 8th\n",
    "print(np.split(A, (3,5, 10))) #split at before the 3rd, 5th and 10th"
   ]
  },
  {
   "cell_type": "markdown",
   "metadata": {},
   "source": [
    "Note that NumPy will throw an exception if equally sized parts cannot be created, e.g. an array with 10 numbers cannot be split into 4 equally sized parts"
   ]
  },
  {
   "cell_type": "code",
   "execution_count": 318,
   "metadata": {},
   "outputs": [
    {
     "ename": "ValueError",
     "evalue": "array split does not result in an equal division",
     "output_type": "error",
     "traceback": [
      "\u001b[1;31m---------------------------------------------------------------------------\u001b[0m",
      "\u001b[1;31mValueError\u001b[0m                                Traceback (most recent call last)",
      "Input \u001b[1;32mIn [318]\u001b[0m, in \u001b[0;36m<cell line: 2>\u001b[1;34m()\u001b[0m\n\u001b[0;32m      1\u001b[0m \u001b[38;5;66;03m# Uncomment for exception\u001b[39;00m\n\u001b[1;32m----> 2\u001b[0m \u001b[43mnp\u001b[49m\u001b[38;5;241;43m.\u001b[39;49m\u001b[43msplit\u001b[49m\u001b[43m(\u001b[49m\u001b[43mnp\u001b[49m\u001b[38;5;241;43m.\u001b[39;49m\u001b[43marange\u001b[49m\u001b[43m(\u001b[49m\u001b[38;5;241;43m10\u001b[39;49m\u001b[43m)\u001b[49m\u001b[43m,\u001b[49m\u001b[43m \u001b[49m\u001b[38;5;241;43m4\u001b[39;49m\u001b[43m)\u001b[49m\n",
      "File \u001b[1;32m<__array_function__ internals>:5\u001b[0m, in \u001b[0;36msplit\u001b[1;34m(*args, **kwargs)\u001b[0m\n",
      "File \u001b[1;32m~\\anaconda3\\lib\\site-packages\\numpy\\lib\\shape_base.py:872\u001b[0m, in \u001b[0;36msplit\u001b[1;34m(ary, indices_or_sections, axis)\u001b[0m\n\u001b[0;32m    870\u001b[0m     N \u001b[38;5;241m=\u001b[39m ary\u001b[38;5;241m.\u001b[39mshape[axis]\n\u001b[0;32m    871\u001b[0m     \u001b[38;5;28;01mif\u001b[39;00m N \u001b[38;5;241m%\u001b[39m sections:\n\u001b[1;32m--> 872\u001b[0m         \u001b[38;5;28;01mraise\u001b[39;00m \u001b[38;5;167;01mValueError\u001b[39;00m(\n\u001b[0;32m    873\u001b[0m             \u001b[38;5;124m'\u001b[39m\u001b[38;5;124marray split does not result in an equal division\u001b[39m\u001b[38;5;124m'\u001b[39m) \u001b[38;5;28;01mfrom\u001b[39;00m \u001b[38;5;28mNone\u001b[39m\n\u001b[0;32m    874\u001b[0m \u001b[38;5;28;01mreturn\u001b[39;00m array_split(ary, indices_or_sections, axis)\n",
      "\u001b[1;31mValueError\u001b[0m: array split does not result in an equal division"
     ]
    }
   ],
   "source": [
    "# Uncomment for exception\n",
    "np.split(np.arange(10), 4)"
   ]
  },
  {
   "cell_type": "markdown",
   "metadata": {},
   "source": [
    "The `axis` argument allows us to determine along which axis to split the array"
   ]
  },
  {
   "cell_type": "code",
   "execution_count": 321,
   "metadata": {},
   "outputs": [
    {
     "name": "stdout",
     "output_type": "stream",
     "text": [
      "[[20 21 22 23 24 25 26 27 28 29]\n",
      " [30 31 32 33 34 35 36 37 38 39]]\n",
      "\n",
      "[array([[20, 21, 22, 23, 24, 25, 26, 27, 28, 29]]), array([[30, 31, 32, 33, 34, 35, 36, 37, 38, 39]])]\n",
      "\n",
      "[array([[20, 21, 22, 23, 24],\n",
      "       [30, 31, 32, 33, 34]]), array([[25, 26, 27, 28, 29],\n",
      "       [35, 36, 37, 38, 39]])]\n"
     ]
    }
   ],
   "source": [
    "print(B)\n",
    "print()\n",
    "print(np.split(B, 2, axis=0)) #axis=0, row\n",
    "print()\n",
    "print(np.split(B, 2, axis=1)) #axis=1 column"
   ]
  },
  {
   "cell_type": "markdown",
   "metadata": {},
   "source": [
    "### Exercises"
   ]
  },
  {
   "cell_type": "markdown",
   "metadata": {},
   "source": [
    "#### Exercise 1\n",
    "Let x be array\n",
    "    \n",
    "    [[1, 2, 3], \n",
    "     [4, 5, 6]].\n",
    "\n",
    "Convert it to \n",
    "    \n",
    "    [[1 4 2 5 3 6]]"
   ]
  },
  {
   "cell_type": "code",
   "execution_count": 348,
   "metadata": {},
   "outputs": [
    {
     "name": "stdout",
     "output_type": "stream",
     "text": [
      "[[1 2 3]\n",
      " [4 5 6]]\n"
     ]
    }
   ],
   "source": [
    "### Your code here 2024\n",
    "### Hint: try with transpose() and reshape(x,y) methods\n",
    "x = np.array([[1, 2, 3], [4, 5, 6]])\n",
    "print(x)"
   ]
  },
  {
   "cell_type": "code",
   "execution_count": 349,
   "metadata": {},
   "outputs": [
    {
     "data": {
      "text/plain": [
       "array([[1, 4],\n",
       "       [2, 5],\n",
       "       [3, 6]])"
      ]
     },
     "execution_count": 349,
     "metadata": {},
     "output_type": "execute_result"
    }
   ],
   "source": [
    "x.transpose()"
   ]
  },
  {
   "cell_type": "code",
   "execution_count": 350,
   "metadata": {},
   "outputs": [
    {
     "data": {
      "text/plain": [
       "array([[1, 4, 2, 5, 3, 6]])"
      ]
     },
     "execution_count": 350,
     "metadata": {},
     "output_type": "execute_result"
    }
   ],
   "source": [
    "x.transpose().reshape(1,6) #row, column"
   ]
  },
  {
   "cell_type": "code",
   "execution_count": 351,
   "metadata": {},
   "outputs": [
    {
     "name": "stdout",
     "output_type": "stream",
     "text": [
      "[[1 2 3]\n",
      " [4 5 6]]\n"
     ]
    }
   ],
   "source": [
    "#farah\n",
    "X = np.arange(1,7).reshape(2, 3)\n",
    "print(X)"
   ]
  },
  {
   "cell_type": "code",
   "execution_count": 352,
   "metadata": {},
   "outputs": [
    {
     "name": "stdout",
     "output_type": "stream",
     "text": [
      "(1, 4, 2, 5, 3, 6)\n"
     ]
    }
   ],
   "source": [
    "#farah\n",
    "X = np.random.randint(low=1, high=6, size=(1, 2, 3, 4, 5, 6))\n",
    "\n",
    "print(X.transpose((0, 3, 1, 4, 2, 5)).shape)\n",
    "\n",
    "# 0 1 2\n",
    "# 3 4 5 "
   ]
  },
  {
   "cell_type": "code",
   "execution_count": 353,
   "metadata": {},
   "outputs": [
    {
     "name": "stdout",
     "output_type": "stream",
     "text": [
      "(2, 3)\n",
      "\n",
      "[[1 4]\n",
      " [2 5]\n",
      " [3 6]]\n",
      "\n",
      "[[1 4 2 5 3 6]]\n"
     ]
    }
   ],
   "source": [
    "#jwpn Alyaa\n",
    "x = np.array([\n",
    "    [1,2,3],\n",
    "    [4,5,6]])\n",
    "\n",
    "print(x.shape)\n",
    "print()\n",
    "\n",
    "A = x.transpose()\n",
    "print (A)\n",
    "print()\n",
    "\n",
    "B = A.reshape(1,6)\n",
    "print(B)\n"
   ]
  },
  {
   "cell_type": "markdown",
   "metadata": {},
   "source": [
    "#### Exercise 2\n",
    "Let x be an array\n",
    "\n",
    "    [[1, 2, 3]\n",
    "     [4, 5, 6]]\n",
    "\n",
    "and y be an array\n",
    "\n",
    "    [[ 7,  8,  9]\n",
    "     [10, 11, 12]]\n",
    "\n",
    "Concatenate x and y so that a new array looks like\n",
    "\n",
    "    [[1, 2, 3,  7,  8,  9]\n",
    "     [4, 5, 6, 10, 11, 12]]"
   ]
  },
  {
   "cell_type": "code",
   "execution_count": 367,
   "metadata": {},
   "outputs": [
    {
     "name": "stdout",
     "output_type": "stream",
     "text": [
      "[[1 2 3]\n",
      " [4 5 6]]\n",
      "\n",
      "[[ 7  8  9]\n",
      " [10 11 12]]\n",
      "\n",
      "[[ 1  2  3  7  8  9]\n",
      " [ 4  5  6 10 11 12]]\n"
     ]
    }
   ],
   "source": [
    "### Your code here 2024\n",
    "X=np.arange(1,7).reshape(2,3)\n",
    "Y=np.arange(7,13).reshape(2,3)\n",
    "print(X)\n",
    "print()\n",
    "print(Y)\n",
    "print()\n",
    "print(np.concatenate((X, Y), axis=1))"
   ]
  },
  {
   "cell_type": "code",
   "execution_count": 424,
   "metadata": {},
   "outputs": [
    {
     "name": "stdout",
     "output_type": "stream",
     "text": [
      "[[1 2 3]\n",
      " [4 5 6]]\n",
      "\n",
      "[[ 7  8  9]\n",
      " [10 11 12]]\n"
     ]
    }
   ],
   "source": [
    "X = np.arange(1,7).reshape(2, 3)\n",
    "print(X)\n",
    "print()\n",
    "\n",
    "Y = np.arange(7,13).reshape(2, 3)\n",
    "print(Y)"
   ]
  },
  {
   "cell_type": "code",
   "execution_count": 426,
   "metadata": {},
   "outputs": [
    {
     "name": "stdout",
     "output_type": "stream",
     "text": [
      "[[ 1  2  3  7  8  9]\n",
      " [ 4  5  6 10 11 12]]\n"
     ]
    }
   ],
   "source": [
    "print(np.concatenate((X, Y), axis=1))"
   ]
  },
  {
   "cell_type": "markdown",
   "metadata": {},
   "source": [
    "#### Exercise 3\n",
    "Let x be an array [1, 2, 3, ..., 9]. Split x into 3 arrays, each of which has 4, 2, and 3 elements in the original order."
   ]
  },
  {
   "cell_type": "code",
   "execution_count": 379,
   "metadata": {},
   "outputs": [
    {
     "name": "stdout",
     "output_type": "stream",
     "text": [
      "[array([1, 2, 3, 4]), array([5, 6]), array([7, 8, 9])]\n"
     ]
    }
   ],
   "source": [
    "### Your code here 2024\n",
    "x = np.arange(1,10)               #0123456789th\n",
    "print(np.split(x,(4,6))) #split to 1234,56,789 #split before that numberth"
   ]
  },
  {
   "cell_type": "code",
   "execution_count": 380,
   "metadata": {},
   "outputs": [
    {
     "name": "stdout",
     "output_type": "stream",
     "text": [
      "[1 2 3 4 5 6 7 8 9]\n",
      "\n"
     ]
    }
   ],
   "source": [
    "X = np.arange(1,10)\n",
    "print(X)\n",
    "print()"
   ]
  },
  {
   "cell_type": "code",
   "execution_count": 381,
   "metadata": {},
   "outputs": [
    {
     "data": {
      "text/plain": [
       "[array([1, 2, 3, 4]), array([5, 6]), array([7, 8, 9])]"
      ]
     },
     "execution_count": 381,
     "metadata": {},
     "output_type": "execute_result"
    }
   ],
   "source": [
    "np.split(X,[4, 6])  #first: 4th element\n",
    "                    #second: until 6th"
   ]
  },
  {
   "cell_type": "markdown",
   "metadata": {},
   "source": [
    "#### Exercise 4\n",
    "Let x be an array [0, 1, 2]. Convert it to\n",
    "\n",
    "    [[0, 1, 2, 0, 1, 2]\n",
    "     [0, 1, 2, 0, 1, 2]]"
   ]
  },
  {
   "cell_type": "code",
   "execution_count": 433,
   "metadata": {},
   "outputs": [
    {
     "name": "stdout",
     "output_type": "stream",
     "text": [
      "[[0 1 2]]\n",
      "\n",
      "[[0 1 2 0 1 2]]\n",
      "\n",
      "[[0 1 2 0 1 2]\n",
      " [0 1 2 0 1 2]]\n"
     ]
    }
   ],
   "source": [
    "#2024\n",
    "x=np.arange(0,3).reshape(1,3)\n",
    "print(x)\n",
    "print()\n",
    "x2=np.concatenate((x,x), axis=1)\n",
    "print(x2)\n",
    "print()\n",
    "print(np.concatenate((x2,x2),axis=0))"
   ]
  },
  {
   "cell_type": "code",
   "execution_count": 434,
   "metadata": {},
   "outputs": [
    {
     "name": "stdout",
     "output_type": "stream",
     "text": [
      "[0 1 2]\n",
      "\n",
      "[[0 1 2]\n",
      " [0 1 2]]\n",
      "\n",
      "[[0 1 2 0 1 2]\n",
      " [0 1 2 0 1 2]]\n"
     ]
    }
   ],
   "source": [
    "### Your code here 2024\n",
    "x=np.arange(0,3) #.reshape(1,3)\n",
    "print(x)\n",
    "print()\n",
    "x2=np.stack((x, x), axis=0)\n",
    "print(x2)\n",
    "print()\n",
    "print(np.concatenate((x2, x2), axis=1)) "
   ]
  },
  {
   "cell_type": "code",
   "execution_count": 435,
   "metadata": {},
   "outputs": [
    {
     "name": "stdout",
     "output_type": "stream",
     "text": [
      "[0 1 2]\n",
      "\n",
      "[[0 1 2]\n",
      " [0 1 2]]\n",
      "\n",
      "[[0 1 2 0 1 2]\n",
      " [0 1 2 0 1 2]]\n"
     ]
    }
   ],
   "source": [
    "X = np.arange(0,3)\n",
    "print(X)\n",
    "print()\n",
    "\n",
    "X2 = np.stack((X, X), axis=0)\n",
    "print(X2)\n",
    "print()\n",
    "\n",
    "print(np.concatenate((X2, X2), axis=1))"
   ]
  },
  {
   "cell_type": "code",
   "execution_count": 436,
   "metadata": {},
   "outputs": [
    {
     "name": "stdout",
     "output_type": "stream",
     "text": [
      "x=\n",
      " [0 1 2]\n",
      "\n",
      "y=\n",
      " [0 1 2 0 1 2]\n",
      "\n",
      "\n",
      "After convert=\n",
      " [[0 1 2 0 1 2]\n",
      " [0 1 2 0 1 2]]\n"
     ]
    }
   ],
   "source": [
    "x = np.array([0, 1, 2])\n",
    "print(\"x=\\n\", x)\n",
    "print()\n",
    "\n",
    "y = np.concatenate((x, x), axis=0)\n",
    "print(\"y=\\n\", y)\n",
    "\n",
    "print(\"\\n\\nAfter convert=\\n\", np.stack((y, y), axis=0))\n"
   ]
  },
  {
   "cell_type": "markdown",
   "metadata": {},
   "source": [
    "## Additional Resources:  \n",
    "- [numpy Quickstart Guide](https://docs.scipy.org/doc/numpy-dev/user/quickstart.html)  \n",
    "- [Rahul Dave's CS109 lab1 content at Harvard](https://github.com/cs109/2015lab1)  \n",
    "- [The Data Incubator](https://www.thedataincubator.com)  \n",
    "- [Python Data Science Handbook](https://github.com/jakevdp/PythonDataScienceHandbook)"
   ]
  }
 ],
 "metadata": {
  "anaconda-cloud": {},
  "kernelspec": {
   "display_name": "Python 3 (ipykernel)",
   "language": "python",
   "name": "python3"
  },
  "language_info": {
   "codemirror_mode": {
    "name": "ipython",
    "version": 3
   },
   "file_extension": ".py",
   "mimetype": "text/x-python",
   "name": "python",
   "nbconvert_exporter": "python",
   "pygments_lexer": "ipython3",
   "version": "3.9.12"
  }
 },
 "nbformat": 4,
 "nbformat_minor": 2
}
